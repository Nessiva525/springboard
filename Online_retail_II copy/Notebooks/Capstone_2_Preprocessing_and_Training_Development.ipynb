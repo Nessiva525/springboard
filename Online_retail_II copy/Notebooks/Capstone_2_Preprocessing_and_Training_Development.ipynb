{
 "cells": [
  {
   "cell_type": "markdown",
   "id": "d0650f82",
   "metadata": {},
   "source": [
    "# Capstone 2 -- Preprocessing and Training Data Development\n",
    "**[Online Retail II](https://archive.ics.uci.edu/dataset/502/online+retail+ii)**"
   ]
  },
  {
   "cell_type": "markdown",
   "id": "a5ea311e",
   "metadata": {},
   "source": [
    "## Imports and Defaults"
   ]
  },
  {
   "cell_type": "markdown",
   "id": "997a2dae",
   "metadata": {},
   "source": [
    "**Import Libraries**"
   ]
  },
  {
   "cell_type": "code",
   "execution_count": 1,
   "id": "1997751d",
   "metadata": {},
   "outputs": [],
   "source": [
    "import pandas as pd\n",
    "import numpy as np\n",
    "from sklearn.preprocessing import PowerTransformer, StandardScaler\n",
    "from sklearn.model_selection import train_test_split\n",
    "import matplotlib.pyplot as plt\n",
    "import seaborn as sns"
   ]
  },
  {
   "cell_type": "markdown",
   "id": "8f8bef12",
   "metadata": {},
   "source": [
    "**Set Default Preferences**"
   ]
  },
  {
   "cell_type": "code",
   "execution_count": 2,
   "id": "8d31c3ae",
   "metadata": {},
   "outputs": [],
   "source": [
    "# display all columns\n",
    "pd.set_option('display.max_columns', None)\n",
    "\n",
    "# surpress scientific notation\n",
    "pd.options.display.float_format = '{:}'.format"
   ]
  },
  {
   "cell_type": "markdown",
   "id": "8407f85b",
   "metadata": {},
   "source": [
    "**Import Data** "
   ]
  },
  {
   "cell_type": "markdown",
   "id": "cd3434d8",
   "metadata": {},
   "source": [
    "'rfm' datafram is the main df for models. It includes Recency, Frequency, and Monetary calculations from the has_id df which represents known customers."
   ]
  },
  {
   "cell_type": "code",
   "execution_count": 3,
   "id": "3a12bba3",
   "metadata": {},
   "outputs": [],
   "source": [
    "# import rfm df\n",
    "path = '../Data/rfm.csv'\n",
    "rfm = pd.read_csv(path)"
   ]
  },
  {
   "cell_type": "code",
   "execution_count": 4,
   "id": "454d4706",
   "metadata": {},
   "outputs": [
    {
     "name": "stdout",
     "output_type": "stream",
     "text": [
      "<class 'pandas.core.frame.DataFrame'>\n",
      "RangeIndex: 5878 entries, 0 to 5877\n",
      "Data columns (total 4 columns):\n",
      " #   Column       Non-Null Count  Dtype  \n",
      "---  ------       --------------  -----  \n",
      " 0   Customer ID  5878 non-null   float64\n",
      " 1   Recency      5878 non-null   int64  \n",
      " 2   Frequency    5878 non-null   int64  \n",
      " 3   Monetary     5878 non-null   float64\n",
      "dtypes: float64(2), int64(2)\n",
      "memory usage: 183.8 KB\n"
     ]
    }
   ],
   "source": [
    "rfm.info()"
   ]
  },
  {
   "cell_type": "markdown",
   "id": "88c073e7",
   "metadata": {},
   "source": [
    "Reload rfm with correct dtype"
   ]
  },
  {
   "cell_type": "code",
   "execution_count": 5,
   "id": "92b00975",
   "metadata": {},
   "outputs": [],
   "source": [
    "# Reload rfm with correct dtype\n",
    "path = '../Data/rfm.csv'\n",
    "dtype_dict= {'Recency': 'int32',\n",
    "               'Frequency': 'int32',\n",
    "               'Monetary': 'float32'}\n",
    "rfm = pd.read_csv(path, dtype= dtype_dict, index_col='Customer ID')"
   ]
  },
  {
   "cell_type": "code",
   "execution_count": 6,
   "id": "0af7dfb5",
   "metadata": {},
   "outputs": [
    {
     "name": "stdout",
     "output_type": "stream",
     "text": [
      "<class 'pandas.core.frame.DataFrame'>\n",
      "Index: 5878 entries, 12346.0 to 18287.0\n",
      "Data columns (total 3 columns):\n",
      " #   Column     Non-Null Count  Dtype  \n",
      "---  ------     --------------  -----  \n",
      " 0   Recency    5878 non-null   int32  \n",
      " 1   Frequency  5878 non-null   int32  \n",
      " 2   Monetary   5878 non-null   float32\n",
      "dtypes: float32(1), int32(2)\n",
      "memory usage: 114.8 KB\n"
     ]
    }
   ],
   "source": [
    "rfm.info()"
   ]
  },
  {
   "cell_type": "code",
   "execution_count": 7,
   "id": "0a582488",
   "metadata": {
    "scrolled": true
   },
   "outputs": [
    {
     "data": {
      "text/html": [
       "<div>\n",
       "<style scoped>\n",
       "    .dataframe tbody tr th:only-of-type {\n",
       "        vertical-align: middle;\n",
       "    }\n",
       "\n",
       "    .dataframe tbody tr th {\n",
       "        vertical-align: top;\n",
       "    }\n",
       "\n",
       "    .dataframe thead th {\n",
       "        text-align: right;\n",
       "    }\n",
       "</style>\n",
       "<table border=\"1\" class=\"dataframe\">\n",
       "  <thead>\n",
       "    <tr style=\"text-align: right;\">\n",
       "      <th></th>\n",
       "      <th>Recency</th>\n",
       "      <th>Frequency</th>\n",
       "      <th>Monetary</th>\n",
       "    </tr>\n",
       "    <tr>\n",
       "      <th>Customer ID</th>\n",
       "      <th></th>\n",
       "      <th></th>\n",
       "      <th></th>\n",
       "    </tr>\n",
       "  </thead>\n",
       "  <tbody>\n",
       "    <tr>\n",
       "      <th>12346.0</th>\n",
       "      <td>326</td>\n",
       "      <td>12</td>\n",
       "      <td>77556.4609375</td>\n",
       "    </tr>\n",
       "    <tr>\n",
       "      <th>12347.0</th>\n",
       "      <td>2</td>\n",
       "      <td>8</td>\n",
       "      <td>4921.52978515625</td>\n",
       "    </tr>\n",
       "    <tr>\n",
       "      <th>12348.0</th>\n",
       "      <td>75</td>\n",
       "      <td>5</td>\n",
       "      <td>2019.4000244140625</td>\n",
       "    </tr>\n",
       "    <tr>\n",
       "      <th>12349.0</th>\n",
       "      <td>19</td>\n",
       "      <td>4</td>\n",
       "      <td>4428.68994140625</td>\n",
       "    </tr>\n",
       "    <tr>\n",
       "      <th>12350.0</th>\n",
       "      <td>310</td>\n",
       "      <td>1</td>\n",
       "      <td>334.3999938964844</td>\n",
       "    </tr>\n",
       "  </tbody>\n",
       "</table>\n",
       "</div>"
      ],
      "text/plain": [
       "             Recency  Frequency           Monetary\n",
       "Customer ID                                       \n",
       "12346.0          326         12      77556.4609375\n",
       "12347.0            2          8   4921.52978515625\n",
       "12348.0           75          5 2019.4000244140625\n",
       "12349.0           19          4   4428.68994140625\n",
       "12350.0          310          1  334.3999938964844"
      ]
     },
     "execution_count": 7,
     "metadata": {},
     "output_type": "execute_result"
    }
   ],
   "source": [
    "rfm.head()"
   ]
  },
  {
   "cell_type": "markdown",
   "id": "4fee5941",
   "metadata": {},
   "source": [
    "'has_id' is the base information and is needed for additional feature engineering."
   ]
  },
  {
   "cell_type": "code",
   "execution_count": 8,
   "id": "a192cb40",
   "metadata": {},
   "outputs": [
    {
     "name": "stdout",
     "output_type": "stream",
     "text": [
      "<class 'pandas.core.frame.DataFrame'>\n",
      "RangeIndex: 779425 entries, 0 to 779424\n",
      "Data columns (total 9 columns):\n",
      " #   Column       Non-Null Count   Dtype  \n",
      "---  ------       --------------   -----  \n",
      " 0   Invoice      779425 non-null  int64  \n",
      " 1   StockCode    779425 non-null  object \n",
      " 2   Description  779425 non-null  object \n",
      " 3   Quantity     779425 non-null  int64  \n",
      " 4   InvoiceDate  779425 non-null  object \n",
      " 5   Price        779425 non-null  float64\n",
      " 6   Customer ID  779425 non-null  float64\n",
      " 7   Country      779425 non-null  object \n",
      " 8   Sales        779425 non-null  float64\n",
      "dtypes: float64(3), int64(2), object(4)\n",
      "memory usage: 53.5+ MB\n"
     ]
    }
   ],
   "source": [
    "path2 = '../Data/has_id.csv'\n",
    "has_id = pd.read_csv(path2)\n",
    "has_id.info()"
   ]
  },
  {
   "cell_type": "code",
   "execution_count": 9,
   "id": "3360cda7",
   "metadata": {},
   "outputs": [
    {
     "name": "stdout",
     "output_type": "stream",
     "text": [
      "<class 'pandas.core.frame.DataFrame'>\n",
      "RangeIndex: 779425 entries, 0 to 779424\n",
      "Data columns (total 9 columns):\n",
      " #   Column       Non-Null Count   Dtype         \n",
      "---  ------       --------------   -----         \n",
      " 0   Invoice      779425 non-null  string        \n",
      " 1   StockCode    779425 non-null  string        \n",
      " 2   Description  779425 non-null  string        \n",
      " 3   Quantity     779425 non-null  int32         \n",
      " 4   InvoiceDate  779425 non-null  datetime64[ns]\n",
      " 5   Price        779425 non-null  float32       \n",
      " 6   Customer ID  779425 non-null  string        \n",
      " 7   Country      779425 non-null  string        \n",
      " 8   Sales        779425 non-null  float32       \n",
      "dtypes: datetime64[ns](1), float32(2), int32(1), string(5)\n",
      "memory usage: 44.6 MB\n"
     ]
    }
   ],
   "source": [
    "# Reload with correct dtype\n",
    "dtype_dict2 = {'Invoice':'string',\n",
    "              'StockCode':'string',\n",
    "              'Description':'string',\n",
    "              'Quantity':'int32',\n",
    "              'Price':'float32',\n",
    "              'Customer ID':'string',\n",
    "              'Country':'string',\n",
    "              'Sales':'float32'}\n",
    "\n",
    "has_id = pd.read_csv(path2, dtype=dtype_dict2, parse_dates=['InvoiceDate'])\n",
    "has_id.info()"
   ]
  },
  {
   "cell_type": "markdown",
   "id": "424e047c",
   "metadata": {},
   "source": [
    "## Model 1: RFM only"
   ]
  },
  {
   "cell_type": "markdown",
   "id": "eb57c4ae",
   "metadata": {},
   "source": [
    "### Model 1: Train Test Split\n",
    "Before normalizing and standardizing the data it will be split into a training set and a test set with a 80/20 split."
   ]
  },
  {
   "cell_type": "code",
   "execution_count": 10,
   "id": "7374a924",
   "metadata": {},
   "outputs": [],
   "source": [
    "rfm_train, rfm_test = train_test_split(rfm, test_size=0.2, random_state=25)"
   ]
  },
  {
   "cell_type": "markdown",
   "id": "7a8cd8a2",
   "metadata": {},
   "source": [
    "### Model 1: Pre Processing - Transform and Scale\n",
    "Due to the highly skewed nature of the data and the different magnitudes of the data, the train and test sets will be transformed and standardized. Power Transformer will be used to transform the data to deal with the skewness. Standard Scaler will be used to standardized the data to deal with differences in magnitude."
   ]
  },
  {
   "cell_type": "code",
   "execution_count": 11,
   "id": "d44f7a68",
   "metadata": {},
   "outputs": [],
   "source": [
    "# Transform Train data\n",
    "power_transformer = PowerTransformer(method='box-cox')\n",
    "rfm_train_transformed = power_transformer.fit_transform(rfm_train)\n",
    "\n",
    "# Scale Train data\n",
    "scaler = StandardScaler()\n",
    "rfm_train_scaled = scaler.fit_transform(rfm_train_transformed)"
   ]
  },
  {
   "cell_type": "code",
   "execution_count": 12,
   "id": "783be6b2",
   "metadata": {},
   "outputs": [],
   "source": [
    "# Transform test data\n",
    "rfm_test_transformed = power_transformer.transform(rfm_test)\n",
    "\n",
    "# Scale test data\n",
    "rfm_test_scaled = scaler.fit_transform(rfm_test_transformed)"
   ]
  },
  {
   "cell_type": "code",
   "execution_count": 13,
   "id": "863ba952",
   "metadata": {},
   "outputs": [
    {
     "data": {
      "image/png": "[encoded data removed]",
      "text/plain": [
       "<Figure size 1200x800 with 4 Axes>"
      ]
     },
     "metadata": {},
     "output_type": "display_data"
    }
   ],
   "source": [
    "# Example: Creating the DataFrame to view trqnsformes and scaled data\n",
    "scaled_transformed_train_df = pd.DataFrame(rfm_train_scaled, columns=['Recency', 'Frequency', 'Monetary'])\n",
    "\n",
    "# Plot histograms\n",
    "axes = scaled_transformed_train_df.hist(\n",
    "    bins=int(np.sqrt(len(scaled_transformed_train_df))), \n",
    "    figsize=(12, 8), \n",
    "    color='skyblue', \n",
    "    edgecolor='black'\n",
    ")\n",
    "\n",
    "# Add an overall title to the figure\n",
    "plt.suptitle('Distributions of Scaled and Transformed Features in Model 1 Train Set', fontsize=16)\n",
    "\n",
    "# Optional: Add individual titles for each subplot\n",
    "for ax, column in zip(axes.flatten(), scaled_transformed_train_df.columns):\n",
    "    ax.set_title(f'Distribution of {column}')\n",
    "\n",
    "plt.tight_layout(rect=[0, 0, 1, 0.95])  # Adjust layout to fit the suptitle\n",
    "plt.show()\n"
   ]
  },
  {
   "cell_type": "markdown",
   "id": "b9cd8597",
   "metadata": {},
   "source": [
    "While the distributions are not perfectly normal thay are way less skewed and they are standardized."
   ]
  },
  {
   "cell_type": "markdown",
   "id": "6d12207a",
   "metadata": {},
   "source": [
    "## Model 2: RFM w/ Expanded Features\n",
    "Model two will expand on the RFM model and add additional features including Average Order Value, customer lifetime, and Customer Lifetime Value."
   ]
  },
  {
   "cell_type": "markdown",
   "id": "f3a0cf9f",
   "metadata": {},
   "source": [
    "### Feature Engineering"
   ]
  },
  {
   "cell_type": "code",
   "execution_count": 14,
   "id": "ab6b2400",
   "metadata": {},
   "outputs": [
    {
     "data": {
      "text/plain": [
       "Index(['Recency', 'Frequency', 'Monetary'], dtype='object')"
      ]
     },
     "execution_count": 14,
     "metadata": {},
     "output_type": "execute_result"
    }
   ],
   "source": [
    "rfm.columns"
   ]
  },
  {
   "cell_type": "code",
   "execution_count": 15,
   "id": "9e53982a",
   "metadata": {},
   "outputs": [],
   "source": [
    "#Copy rfm to form new df for added features\n",
    "rfm_expanded = rfm.copy(deep=True)"
   ]
  },
  {
   "cell_type": "markdown",
   "id": "b281743b",
   "metadata": {},
   "source": [
    "**Average Order Value** give insight into the size of average orders."
   ]
  },
  {
   "cell_type": "code",
   "execution_count": 16,
   "id": "3d98fed7",
   "metadata": {},
   "outputs": [
    {
     "data": {
      "text/html": [
       "<div>\n",
       "<style scoped>\n",
       "    .dataframe tbody tr th:only-of-type {\n",
       "        vertical-align: middle;\n",
       "    }\n",
       "\n",
       "    .dataframe tbody tr th {\n",
       "        vertical-align: top;\n",
       "    }\n",
       "\n",
       "    .dataframe thead th {\n",
       "        text-align: right;\n",
       "    }\n",
       "</style>\n",
       "<table border=\"1\" class=\"dataframe\">\n",
       "  <thead>\n",
       "    <tr style=\"text-align: right;\">\n",
       "      <th></th>\n",
       "      <th>Recency</th>\n",
       "      <th>Frequency</th>\n",
       "      <th>Monetary</th>\n",
       "      <th>AOV</th>\n",
       "    </tr>\n",
       "    <tr>\n",
       "      <th>Customer ID</th>\n",
       "      <th></th>\n",
       "      <th></th>\n",
       "      <th></th>\n",
       "      <th></th>\n",
       "    </tr>\n",
       "  </thead>\n",
       "  <tbody>\n",
       "    <tr>\n",
       "      <th>12346.0</th>\n",
       "      <td>326</td>\n",
       "      <td>12</td>\n",
       "      <td>77556.4609375</td>\n",
       "      <td>6463.038411458333</td>\n",
       "    </tr>\n",
       "    <tr>\n",
       "      <th>12347.0</th>\n",
       "      <td>2</td>\n",
       "      <td>8</td>\n",
       "      <td>4921.52978515625</td>\n",
       "      <td>615.1912231445312</td>\n",
       "    </tr>\n",
       "    <tr>\n",
       "      <th>12348.0</th>\n",
       "      <td>75</td>\n",
       "      <td>5</td>\n",
       "      <td>2019.4000244140625</td>\n",
       "      <td>403.8800048828125</td>\n",
       "    </tr>\n",
       "    <tr>\n",
       "      <th>12349.0</th>\n",
       "      <td>19</td>\n",
       "      <td>4</td>\n",
       "      <td>4428.68994140625</td>\n",
       "      <td>1107.1724853515625</td>\n",
       "    </tr>\n",
       "    <tr>\n",
       "      <th>12350.0</th>\n",
       "      <td>310</td>\n",
       "      <td>1</td>\n",
       "      <td>334.3999938964844</td>\n",
       "      <td>334.3999938964844</td>\n",
       "    </tr>\n",
       "    <tr>\n",
       "      <th>...</th>\n",
       "      <td>...</td>\n",
       "      <td>...</td>\n",
       "      <td>...</td>\n",
       "      <td>...</td>\n",
       "    </tr>\n",
       "    <tr>\n",
       "      <th>18283.0</th>\n",
       "      <td>4</td>\n",
       "      <td>22</td>\n",
       "      <td>2664.89990234375</td>\n",
       "      <td>121.13181374289773</td>\n",
       "    </tr>\n",
       "    <tr>\n",
       "      <th>18284.0</th>\n",
       "      <td>432</td>\n",
       "      <td>1</td>\n",
       "      <td>461.67999267578125</td>\n",
       "      <td>461.67999267578125</td>\n",
       "    </tr>\n",
       "    <tr>\n",
       "      <th>18285.0</th>\n",
       "      <td>661</td>\n",
       "      <td>1</td>\n",
       "      <td>427.0</td>\n",
       "      <td>427.0</td>\n",
       "    </tr>\n",
       "    <tr>\n",
       "      <th>18286.0</th>\n",
       "      <td>477</td>\n",
       "      <td>2</td>\n",
       "      <td>1296.4300537109375</td>\n",
       "      <td>648.2150268554688</td>\n",
       "    </tr>\n",
       "    <tr>\n",
       "      <th>18287.0</th>\n",
       "      <td>43</td>\n",
       "      <td>7</td>\n",
       "      <td>4182.990234375</td>\n",
       "      <td>597.5700334821429</td>\n",
       "    </tr>\n",
       "  </tbody>\n",
       "</table>\n",
       "<p>5878 rows × 4 columns</p>\n",
       "</div>"
      ],
      "text/plain": [
       "             Recency  Frequency           Monetary                AOV\n",
       "Customer ID                                                          \n",
       "12346.0          326         12      77556.4609375  6463.038411458333\n",
       "12347.0            2          8   4921.52978515625  615.1912231445312\n",
       "12348.0           75          5 2019.4000244140625  403.8800048828125\n",
       "12349.0           19          4   4428.68994140625 1107.1724853515625\n",
       "12350.0          310          1  334.3999938964844  334.3999938964844\n",
       "...              ...        ...                ...                ...\n",
       "18283.0            4         22   2664.89990234375 121.13181374289773\n",
       "18284.0          432          1 461.67999267578125 461.67999267578125\n",
       "18285.0          661          1              427.0              427.0\n",
       "18286.0          477          2 1296.4300537109375  648.2150268554688\n",
       "18287.0           43          7     4182.990234375  597.5700334821429\n",
       "\n",
       "[5878 rows x 4 columns]"
      ]
     },
     "execution_count": 16,
     "metadata": {},
     "output_type": "execute_result"
    }
   ],
   "source": [
    "# calculate Average Order Value (aov)\n",
    "rfm_expanded['AOV'] = rfm.Monetary / rfm.Frequency\n",
    "rfm_expanded"
   ]
  },
  {
   "cell_type": "code",
   "execution_count": 17,
   "id": "30e5d0c1",
   "metadata": {},
   "outputs": [
    {
     "data": {
      "text/plain": [
       "count               5878.0\n",
       "mean    385.18084076162313\n",
       "std     1214.2864588587054\n",
       "min      2.950000047683716\n",
       "25%      176.6825065612793\n",
       "50%     279.24268886021207\n",
       "75%     414.90245351070115\n",
       "max               84236.25\n",
       "Name: AOV, dtype: float64"
      ]
     },
     "execution_count": 17,
     "metadata": {},
     "output_type": "execute_result"
    }
   ],
   "source": [
    "rfm_expanded.AOV.describe()"
   ]
  },
  {
   "cell_type": "markdown",
   "id": "9b6d72c3",
   "metadata": {},
   "source": [
    "**Customer Lifespan (lifespan)** gives insight into the length of time the customer has been purchasing from the company.  Customers with longer lifespans will in theory have higher total Monetary values. This can help distinguish between customers who are recent big spenders customers who have long lifespan and therefor have a higher Monetary Value.  Additionally it give insight into length of time buying from the company.\n",
    "<br><br>\n",
    "The rfm dataframe was created from the has_id dataframe in a previous step but it does not have 'InvoiceDate' which is needed to calculate lifespan.  'has_id' will be used to create the new lifespan value."
   ]
  },
  {
   "cell_type": "code",
   "execution_count": 18,
   "id": "d66a0559",
   "metadata": {},
   "outputs": [
    {
     "data": {
      "text/html": [
       "<div>\n",
       "<style scoped>\n",
       "    .dataframe tbody tr th:only-of-type {\n",
       "        vertical-align: middle;\n",
       "    }\n",
       "\n",
       "    .dataframe tbody tr th {\n",
       "        vertical-align: top;\n",
       "    }\n",
       "\n",
       "    .dataframe thead th {\n",
       "        text-align: right;\n",
       "    }\n",
       "</style>\n",
       "<table border=\"1\" class=\"dataframe\">\n",
       "  <thead>\n",
       "    <tr style=\"text-align: right;\">\n",
       "      <th></th>\n",
       "      <th>Recency</th>\n",
       "      <th>Frequency</th>\n",
       "      <th>Monetary</th>\n",
       "      <th>AOV</th>\n",
       "      <th>Lifespan</th>\n",
       "    </tr>\n",
       "    <tr>\n",
       "      <th>Customer ID</th>\n",
       "      <th></th>\n",
       "      <th></th>\n",
       "      <th></th>\n",
       "      <th></th>\n",
       "      <th></th>\n",
       "    </tr>\n",
       "  </thead>\n",
       "  <tbody>\n",
       "    <tr>\n",
       "      <th>12346.0</th>\n",
       "      <td>326</td>\n",
       "      <td>12</td>\n",
       "      <td>77556.4609375</td>\n",
       "      <td>6463.038411458333</td>\n",
       "      <td>735</td>\n",
       "    </tr>\n",
       "    <tr>\n",
       "      <th>12347.0</th>\n",
       "      <td>2</td>\n",
       "      <td>8</td>\n",
       "      <td>4921.52978515625</td>\n",
       "      <td>615.1912231445312</td>\n",
       "      <td>735</td>\n",
       "    </tr>\n",
       "    <tr>\n",
       "      <th>12348.0</th>\n",
       "      <td>75</td>\n",
       "      <td>5</td>\n",
       "      <td>2019.4000244140625</td>\n",
       "      <td>403.8800048828125</td>\n",
       "      <td>735</td>\n",
       "    </tr>\n",
       "    <tr>\n",
       "      <th>12349.0</th>\n",
       "      <td>19</td>\n",
       "      <td>4</td>\n",
       "      <td>4428.68994140625</td>\n",
       "      <td>1107.1724853515625</td>\n",
       "      <td>735</td>\n",
       "    </tr>\n",
       "    <tr>\n",
       "      <th>12350.0</th>\n",
       "      <td>310</td>\n",
       "      <td>1</td>\n",
       "      <td>334.3999938964844</td>\n",
       "      <td>334.3999938964844</td>\n",
       "      <td>735</td>\n",
       "    </tr>\n",
       "    <tr>\n",
       "      <th>...</th>\n",
       "      <td>...</td>\n",
       "      <td>...</td>\n",
       "      <td>...</td>\n",
       "      <td>...</td>\n",
       "      <td>...</td>\n",
       "    </tr>\n",
       "    <tr>\n",
       "      <th>18283.0</th>\n",
       "      <td>4</td>\n",
       "      <td>22</td>\n",
       "      <td>2664.89990234375</td>\n",
       "      <td>121.13181374289773</td>\n",
       "      <td>716</td>\n",
       "    </tr>\n",
       "    <tr>\n",
       "      <th>18284.0</th>\n",
       "      <td>432</td>\n",
       "      <td>1</td>\n",
       "      <td>461.67999267578125</td>\n",
       "      <td>461.67999267578125</td>\n",
       "      <td>716</td>\n",
       "    </tr>\n",
       "    <tr>\n",
       "      <th>18285.0</th>\n",
       "      <td>661</td>\n",
       "      <td>1</td>\n",
       "      <td>427.0</td>\n",
       "      <td>427.0</td>\n",
       "      <td>716</td>\n",
       "    </tr>\n",
       "    <tr>\n",
       "      <th>18286.0</th>\n",
       "      <td>477</td>\n",
       "      <td>2</td>\n",
       "      <td>1296.4300537109375</td>\n",
       "      <td>648.2150268554688</td>\n",
       "      <td>716</td>\n",
       "    </tr>\n",
       "    <tr>\n",
       "      <th>18287.0</th>\n",
       "      <td>43</td>\n",
       "      <td>7</td>\n",
       "      <td>4182.990234375</td>\n",
       "      <td>597.5700334821429</td>\n",
       "      <td>716</td>\n",
       "    </tr>\n",
       "  </tbody>\n",
       "</table>\n",
       "<p>5878 rows × 5 columns</p>\n",
       "</div>"
      ],
      "text/plain": [
       "             Recency  Frequency           Monetary                AOV  \\\n",
       "Customer ID                                                             \n",
       "12346.0          326         12      77556.4609375  6463.038411458333   \n",
       "12347.0            2          8   4921.52978515625  615.1912231445312   \n",
       "12348.0           75          5 2019.4000244140625  403.8800048828125   \n",
       "12349.0           19          4   4428.68994140625 1107.1724853515625   \n",
       "12350.0          310          1  334.3999938964844  334.3999938964844   \n",
       "...              ...        ...                ...                ...   \n",
       "18283.0            4         22   2664.89990234375 121.13181374289773   \n",
       "18284.0          432          1 461.67999267578125 461.67999267578125   \n",
       "18285.0          661          1              427.0              427.0   \n",
       "18286.0          477          2 1296.4300537109375  648.2150268554688   \n",
       "18287.0           43          7     4182.990234375  597.5700334821429   \n",
       "\n",
       "             Lifespan  \n",
       "Customer ID            \n",
       "12346.0           735  \n",
       "12347.0           735  \n",
       "12348.0           735  \n",
       "12349.0           735  \n",
       "12350.0           735  \n",
       "...               ...  \n",
       "18283.0           716  \n",
       "18284.0           716  \n",
       "18285.0           716  \n",
       "18286.0           716  \n",
       "18287.0           716  \n",
       "\n",
       "[5878 rows x 5 columns]"
      ]
     },
     "execution_count": 18,
     "metadata": {},
     "output_type": "execute_result"
    }
   ],
   "source": [
    "# create lifespan from latest purchase - earliest purchase\n",
    "rfm_expanded['Lifespan'] = (has_id.groupby('Customer ID')['InvoiceDate'].transform('max') - has_id.groupby('Customer ID')['InvoiceDate'].transform('min')).dt.days\n",
    "rfm_expanded"
   ]
  },
  {
   "cell_type": "code",
   "execution_count": 19,
   "id": "193efcd3",
   "metadata": {},
   "outputs": [
    {
     "data": {
      "text/plain": [
       "count               5878.0\n",
       "mean     573.0161619598503\n",
       "std     230.80494836549343\n",
       "min                    0.0\n",
       "25%                  429.0\n",
       "50%                  705.0\n",
       "75%                  724.0\n",
       "max                  738.0\n",
       "Name: Lifespan, dtype: float64"
      ]
     },
     "execution_count": 19,
     "metadata": {},
     "output_type": "execute_result"
    }
   ],
   "source": [
    "rfm_expanded.Lifespan.describe()"
   ]
  },
  {
   "cell_type": "markdown",
   "id": "09621f35",
   "metadata": {},
   "source": [
    "**Customer Lifetime Value (CLV)** gives better insight into customer segmentation than RFM alone.  Customers can have similar RFM but very different CLV.  Adding CLV allows the company to focus on the value the customer adds.  It also allows the company to market to different types of customers."
   ]
  },
  {
   "cell_type": "code",
   "execution_count": 20,
   "id": "f2002562",
   "metadata": {},
   "outputs": [
    {
     "data": {
      "text/html": [
       "<div>\n",
       "<style scoped>\n",
       "    .dataframe tbody tr th:only-of-type {\n",
       "        vertical-align: middle;\n",
       "    }\n",
       "\n",
       "    .dataframe tbody tr th {\n",
       "        vertical-align: top;\n",
       "    }\n",
       "\n",
       "    .dataframe thead th {\n",
       "        text-align: right;\n",
       "    }\n",
       "</style>\n",
       "<table border=\"1\" class=\"dataframe\">\n",
       "  <thead>\n",
       "    <tr style=\"text-align: right;\">\n",
       "      <th></th>\n",
       "      <th>Recency</th>\n",
       "      <th>Frequency</th>\n",
       "      <th>Monetary</th>\n",
       "      <th>AOV</th>\n",
       "      <th>Lifespan</th>\n",
       "      <th>CLV</th>\n",
       "    </tr>\n",
       "    <tr>\n",
       "      <th>Customer ID</th>\n",
       "      <th></th>\n",
       "      <th></th>\n",
       "      <th></th>\n",
       "      <th></th>\n",
       "      <th></th>\n",
       "      <th></th>\n",
       "    </tr>\n",
       "  </thead>\n",
       "  <tbody>\n",
       "    <tr>\n",
       "      <th>12346.0</th>\n",
       "      <td>326</td>\n",
       "      <td>12</td>\n",
       "      <td>77556.4609375</td>\n",
       "      <td>6463.038411458333</td>\n",
       "      <td>735</td>\n",
       "      <td>57003998.7890625</td>\n",
       "    </tr>\n",
       "    <tr>\n",
       "      <th>12347.0</th>\n",
       "      <td>2</td>\n",
       "      <td>8</td>\n",
       "      <td>4921.52978515625</td>\n",
       "      <td>615.1912231445312</td>\n",
       "      <td>735</td>\n",
       "      <td>3617324.3920898438</td>\n",
       "    </tr>\n",
       "    <tr>\n",
       "      <th>12348.0</th>\n",
       "      <td>75</td>\n",
       "      <td>5</td>\n",
       "      <td>2019.4000244140625</td>\n",
       "      <td>403.8800048828125</td>\n",
       "      <td>735</td>\n",
       "      <td>1484259.017944336</td>\n",
       "    </tr>\n",
       "    <tr>\n",
       "      <th>12349.0</th>\n",
       "      <td>19</td>\n",
       "      <td>4</td>\n",
       "      <td>4428.68994140625</td>\n",
       "      <td>1107.1724853515625</td>\n",
       "      <td>735</td>\n",
       "      <td>3255087.1069335938</td>\n",
       "    </tr>\n",
       "    <tr>\n",
       "      <th>12350.0</th>\n",
       "      <td>310</td>\n",
       "      <td>1</td>\n",
       "      <td>334.3999938964844</td>\n",
       "      <td>334.3999938964844</td>\n",
       "      <td>735</td>\n",
       "      <td>245783.99551391602</td>\n",
       "    </tr>\n",
       "    <tr>\n",
       "      <th>...</th>\n",
       "      <td>...</td>\n",
       "      <td>...</td>\n",
       "      <td>...</td>\n",
       "      <td>...</td>\n",
       "      <td>...</td>\n",
       "      <td>...</td>\n",
       "    </tr>\n",
       "    <tr>\n",
       "      <th>18283.0</th>\n",
       "      <td>4</td>\n",
       "      <td>22</td>\n",
       "      <td>2664.89990234375</td>\n",
       "      <td>121.13181374289773</td>\n",
       "      <td>716</td>\n",
       "      <td>1908068.330078125</td>\n",
       "    </tr>\n",
       "    <tr>\n",
       "      <th>18284.0</th>\n",
       "      <td>432</td>\n",
       "      <td>1</td>\n",
       "      <td>461.67999267578125</td>\n",
       "      <td>461.67999267578125</td>\n",
       "      <td>716</td>\n",
       "      <td>330562.8747558594</td>\n",
       "    </tr>\n",
       "    <tr>\n",
       "      <th>18285.0</th>\n",
       "      <td>661</td>\n",
       "      <td>1</td>\n",
       "      <td>427.0</td>\n",
       "      <td>427.0</td>\n",
       "      <td>716</td>\n",
       "      <td>305732.0</td>\n",
       "    </tr>\n",
       "    <tr>\n",
       "      <th>18286.0</th>\n",
       "      <td>477</td>\n",
       "      <td>2</td>\n",
       "      <td>1296.4300537109375</td>\n",
       "      <td>648.2150268554688</td>\n",
       "      <td>716</td>\n",
       "      <td>928243.9184570312</td>\n",
       "    </tr>\n",
       "    <tr>\n",
       "      <th>18287.0</th>\n",
       "      <td>43</td>\n",
       "      <td>7</td>\n",
       "      <td>4182.990234375</td>\n",
       "      <td>597.5700334821429</td>\n",
       "      <td>716</td>\n",
       "      <td>2995021.0078125</td>\n",
       "    </tr>\n",
       "  </tbody>\n",
       "</table>\n",
       "<p>5878 rows × 6 columns</p>\n",
       "</div>"
      ],
      "text/plain": [
       "             Recency  Frequency           Monetary                AOV  \\\n",
       "Customer ID                                                             \n",
       "12346.0          326         12      77556.4609375  6463.038411458333   \n",
       "12347.0            2          8   4921.52978515625  615.1912231445312   \n",
       "12348.0           75          5 2019.4000244140625  403.8800048828125   \n",
       "12349.0           19          4   4428.68994140625 1107.1724853515625   \n",
       "12350.0          310          1  334.3999938964844  334.3999938964844   \n",
       "...              ...        ...                ...                ...   \n",
       "18283.0            4         22   2664.89990234375 121.13181374289773   \n",
       "18284.0          432          1 461.67999267578125 461.67999267578125   \n",
       "18285.0          661          1              427.0              427.0   \n",
       "18286.0          477          2 1296.4300537109375  648.2150268554688   \n",
       "18287.0           43          7     4182.990234375  597.5700334821429   \n",
       "\n",
       "             Lifespan                CLV  \n",
       "Customer ID                               \n",
       "12346.0           735   57003998.7890625  \n",
       "12347.0           735 3617324.3920898438  \n",
       "12348.0           735  1484259.017944336  \n",
       "12349.0           735 3255087.1069335938  \n",
       "12350.0           735 245783.99551391602  \n",
       "...               ...                ...  \n",
       "18283.0           716  1908068.330078125  \n",
       "18284.0           716  330562.8747558594  \n",
       "18285.0           716           305732.0  \n",
       "18286.0           716  928243.9184570312  \n",
       "18287.0           716    2995021.0078125  \n",
       "\n",
       "[5878 rows x 6 columns]"
      ]
     },
     "execution_count": 20,
     "metadata": {},
     "output_type": "execute_result"
    }
   ],
   "source": [
    "# Calculate CLV\n",
    "rfm_expanded['CLV'] = rfm_expanded.AOV * rfm.Frequency * rfm_expanded.Lifespan\n",
    "rfm_expanded"
   ]
  },
  {
   "cell_type": "code",
   "execution_count": 21,
   "id": "72550fc0",
   "metadata": {},
   "outputs": [
    {
     "data": {
      "text/plain": [
       "count               5878.0\n",
       "mean    1699351.8684142341\n",
       "std        9701266.4867665\n",
       "min                    0.0\n",
       "25%      148585.2219467163\n",
       "50%     434309.45837402344\n",
       "75%      1236315.367767334\n",
       "max           415986736.75\n",
       "Name: CLV, dtype: float64"
      ]
     },
     "execution_count": 21,
     "metadata": {},
     "output_type": "execute_result"
    }
   ],
   "source": [
    "rfm_expanded.CLV.describe()"
   ]
  },
  {
   "cell_type": "markdown",
   "id": "c6b49869",
   "metadata": {},
   "source": [
    "### Model 2: Train Test Split\n",
    "Model 2 will be split in the same 80/20 train/test split as with model 1."
   ]
  },
  {
   "cell_type": "code",
   "execution_count": 22,
   "id": "65c89bc1",
   "metadata": {},
   "outputs": [],
   "source": [
    "rfm_expanded_train, rfm_expanded_test = train_test_split(rfm_expanded, test_size =0.2, random_state=25)"
   ]
  },
  {
   "cell_type": "code",
   "execution_count": 23,
   "id": "d688af03",
   "metadata": {},
   "outputs": [
    {
     "data": {
      "text/html": [
       "<div>\n",
       "<style scoped>\n",
       "    .dataframe tbody tr th:only-of-type {\n",
       "        vertical-align: middle;\n",
       "    }\n",
       "\n",
       "    .dataframe tbody tr th {\n",
       "        vertical-align: top;\n",
       "    }\n",
       "\n",
       "    .dataframe thead th {\n",
       "        text-align: right;\n",
       "    }\n",
       "</style>\n",
       "<table border=\"1\" class=\"dataframe\">\n",
       "  <thead>\n",
       "    <tr style=\"text-align: right;\">\n",
       "      <th></th>\n",
       "      <th>Recency</th>\n",
       "      <th>Frequency</th>\n",
       "      <th>Monetary</th>\n",
       "      <th>AOV</th>\n",
       "      <th>Lifespan</th>\n",
       "      <th>CLV</th>\n",
       "    </tr>\n",
       "    <tr>\n",
       "      <th>Customer ID</th>\n",
       "      <th></th>\n",
       "      <th></th>\n",
       "      <th></th>\n",
       "      <th></th>\n",
       "      <th></th>\n",
       "      <th></th>\n",
       "    </tr>\n",
       "  </thead>\n",
       "  <tbody>\n",
       "    <tr>\n",
       "      <th>16952.0</th>\n",
       "      <td>109</td>\n",
       "      <td>5</td>\n",
       "      <td>795.8300170898438</td>\n",
       "      <td>159.16600341796874</td>\n",
       "      <td>0</td>\n",
       "      <td>0.0</td>\n",
       "    </tr>\n",
       "    <tr>\n",
       "      <th>14629.0</th>\n",
       "      <td>4</td>\n",
       "      <td>2</td>\n",
       "      <td>955.260009765625</td>\n",
       "      <td>477.6300048828125</td>\n",
       "      <td>720</td>\n",
       "      <td>687787.20703125</td>\n",
       "    </tr>\n",
       "    <tr>\n",
       "      <th>16866.0</th>\n",
       "      <td>141</td>\n",
       "      <td>3</td>\n",
       "      <td>207.739990234375</td>\n",
       "      <td>69.24666341145833</td>\n",
       "      <td>181</td>\n",
       "      <td>37600.938232421875</td>\n",
       "    </tr>\n",
       "    <tr>\n",
       "      <th>15206.0</th>\n",
       "      <td>10</td>\n",
       "      <td>4</td>\n",
       "      <td>420.3000183105469</td>\n",
       "      <td>105.07500457763672</td>\n",
       "      <td>728</td>\n",
       "      <td>305978.4133300781</td>\n",
       "    </tr>\n",
       "    <tr>\n",
       "      <th>15422.0</th>\n",
       "      <td>323</td>\n",
       "      <td>7</td>\n",
       "      <td>1619.969970703125</td>\n",
       "      <td>231.42428152901786</td>\n",
       "      <td>713</td>\n",
       "      <td>1155038.5891113281</td>\n",
       "    </tr>\n",
       "    <tr>\n",
       "      <th>...</th>\n",
       "      <td>...</td>\n",
       "      <td>...</td>\n",
       "      <td>...</td>\n",
       "      <td>...</td>\n",
       "      <td>...</td>\n",
       "      <td>...</td>\n",
       "    </tr>\n",
       "    <tr>\n",
       "      <th>12602.0</th>\n",
       "      <td>59</td>\n",
       "      <td>1</td>\n",
       "      <td>153.1199951171875</td>\n",
       "      <td>153.1199951171875</td>\n",
       "      <td>316</td>\n",
       "      <td>48385.91845703125</td>\n",
       "    </tr>\n",
       "    <tr>\n",
       "      <th>15310.0</th>\n",
       "      <td>479</td>\n",
       "      <td>1</td>\n",
       "      <td>1634.6400146484375</td>\n",
       "      <td>1634.6400146484375</td>\n",
       "      <td>108</td>\n",
       "      <td>176541.12158203125</td>\n",
       "    </tr>\n",
       "    <tr>\n",
       "      <th>14560.0</th>\n",
       "      <td>7</td>\n",
       "      <td>44</td>\n",
       "      <td>6114.02978515625</td>\n",
       "      <td>138.95522238991478</td>\n",
       "      <td>691</td>\n",
       "      <td>4224794.581542969</td>\n",
       "    </tr>\n",
       "    <tr>\n",
       "      <th>12665.0</th>\n",
       "      <td>325</td>\n",
       "      <td>3</td>\n",
       "      <td>313.6000061035156</td>\n",
       "      <td>104.53333536783855</td>\n",
       "      <td>730</td>\n",
       "      <td>228928.0044555664</td>\n",
       "    </tr>\n",
       "    <tr>\n",
       "      <th>17658.0</th>\n",
       "      <td>26</td>\n",
       "      <td>2</td>\n",
       "      <td>595.4199829101562</td>\n",
       "      <td>297.7099914550781</td>\n",
       "      <td>707</td>\n",
       "      <td>420961.92791748047</td>\n",
       "    </tr>\n",
       "  </tbody>\n",
       "</table>\n",
       "<p>4702 rows × 6 columns</p>\n",
       "</div>"
      ],
      "text/plain": [
       "             Recency  Frequency           Monetary                AOV  \\\n",
       "Customer ID                                                             \n",
       "16952.0          109          5  795.8300170898438 159.16600341796874   \n",
       "14629.0            4          2   955.260009765625  477.6300048828125   \n",
       "16866.0          141          3   207.739990234375  69.24666341145833   \n",
       "15206.0           10          4  420.3000183105469 105.07500457763672   \n",
       "15422.0          323          7  1619.969970703125 231.42428152901786   \n",
       "...              ...        ...                ...                ...   \n",
       "12602.0           59          1  153.1199951171875  153.1199951171875   \n",
       "15310.0          479          1 1634.6400146484375 1634.6400146484375   \n",
       "14560.0            7         44   6114.02978515625 138.95522238991478   \n",
       "12665.0          325          3  313.6000061035156 104.53333536783855   \n",
       "17658.0           26          2  595.4199829101562  297.7099914550781   \n",
       "\n",
       "             Lifespan                CLV  \n",
       "Customer ID                               \n",
       "16952.0             0                0.0  \n",
       "14629.0           720    687787.20703125  \n",
       "16866.0           181 37600.938232421875  \n",
       "15206.0           728  305978.4133300781  \n",
       "15422.0           713 1155038.5891113281  \n",
       "...               ...                ...  \n",
       "12602.0           316  48385.91845703125  \n",
       "15310.0           108 176541.12158203125  \n",
       "14560.0           691  4224794.581542969  \n",
       "12665.0           730  228928.0044555664  \n",
       "17658.0           707 420961.92791748047  \n",
       "\n",
       "[4702 rows x 6 columns]"
      ]
     },
     "execution_count": 23,
     "metadata": {},
     "output_type": "execute_result"
    }
   ],
   "source": [
    "rfm_expanded_train"
   ]
  },
  {
   "cell_type": "markdown",
   "id": "6ee64c94",
   "metadata": {},
   "source": [
    "### Model 2: Pre Processing - Transform and Scale\n",
    "As like above Power Transformer will be used to handle the skewness and Standard Scaler will be used for standardization."
   ]
  },
  {
   "cell_type": "code",
   "execution_count": 24,
   "id": "bbaf8670",
   "metadata": {},
   "outputs": [],
   "source": [
    "# Transform Model 2 Train Data\n",
    "transformer2 = PowerTransformer()\n",
    "rfm_expanded_train_transformed = transformer2.fit_transform(rfm_expanded_train)"
   ]
  },
  {
   "cell_type": "code",
   "execution_count": 25,
   "id": "fce06555",
   "metadata": {},
   "outputs": [],
   "source": [
    "# Scale Model 2 Train Data\n",
    "scaler2=StandardScaler()\n",
    "rfm_expanded_train_scaled = scaler2.fit_transform(rfm_expanded_train_transformed)"
   ]
  },
  {
   "cell_type": "code",
   "execution_count": 26,
   "id": "32b9682a",
   "metadata": {},
   "outputs": [],
   "source": [
    "# Transform Model 2 Test Data\n",
    "rfm_expanded_test_transformed = transformer2.transform(rfm_expanded_test)\n",
    "\n",
    "# Scale Model 2 Test Data\n",
    "rfm_expanded_test_scaled = scaler2.transform(rfm_expanded_test_transformed)"
   ]
  },
  {
   "cell_type": "code",
   "execution_count": 27,
   "id": "26dab541",
   "metadata": {},
   "outputs": [
    {
     "data": {
      "image/png": "[encoded data removed]",
      "text/plain": [
       "<Figure size 1200x800 with 6 Axes>"
      ]
     },
     "metadata": {},
     "output_type": "display_data"
    }
   ],
   "source": [
    "# Example: Creating the DataFrame to view transformes and scaled data\n",
    "scaled_transformed_train_df2 = pd.DataFrame(rfm_expanded_train_scaled, columns=['Recency', 'Frequency', 'Monetary', 'AOV', 'Lifespan', 'CLV'])\n",
    "\n",
    "# Plot histograms\n",
    "axes = scaled_transformed_train_df2.hist(\n",
    "    bins=int(np.sqrt(len(scaled_transformed_train_df2))), \n",
    "    figsize=(12, 8), \n",
    "    color='skyblue', \n",
    "    edgecolor='black'\n",
    ")\n",
    "\n",
    "# Add an overall title to the figure\n",
    "plt.suptitle('Distributions of Scaled and Transformed Features in Model 2 Train Set', fontsize=16)\n",
    "\n",
    "# Optional: Add individual titles for each subplot\n",
    "for ax, column in zip(axes.flatten(), scaled_transformed_train_df2.columns):\n",
    "    ax.set_title(f'Distribution of {column}')\n",
    "\n",
    "plt.tight_layout(rect=[0, 0, 1, 0.95])  # Adjust layout to fit the suptitle\n",
    "plt.show()"
   ]
  },
  {
   "cell_type": "markdown",
   "id": "c7a3461c",
   "metadata": {},
   "source": [
    "## Export Datasets"
   ]
  },
  {
   "cell_type": "code",
   "execution_count": 28,
   "id": "243bd5d2",
   "metadata": {},
   "outputs": [
    {
     "data": {
      "text/plain": [
       "Index(['Recency', 'Frequency', 'Monetary', 'AOV', 'Lifespan', 'CLV'], dtype='object')"
      ]
     },
     "execution_count": 28,
     "metadata": {},
     "output_type": "execute_result"
    }
   ],
   "source": [
    "# rfm.columns\n",
    "rfm_expanded.columns"
   ]
  },
  {
   "cell_type": "markdown",
   "id": "ef17c731",
   "metadata": {},
   "source": [
    "Convert "
   ]
  },
  {
   "cell_type": "code",
   "execution_count": 31,
   "id": "69b0a3f5",
   "metadata": {},
   "outputs": [],
   "source": [
    "# export expanded rfm df\n",
    "rfm_expanded.to_csv('../Data/rfm_expanded.csv', index = True)\n",
    "\n",
    "# Convert Model 1 arrays to DF\n",
    "rfm_train_scaled_df = pd.DataFrame(rfm_train_scaled, columns=list(rfm_train.columns), index=rfm_train.index)\n",
    "rfm_test_scaled_df = pd.DataFrame(rfm_test_scaled, columns=list(rfm_test.columns), index=rfm_test.index)\n",
    "\n",
    "# Export Model 1 train/test data\n",
    "rfm_train_scaled_df.to_csv('../Data/rfm_train_scaled_df.csv', index = True)\n",
    "rfm_test_scaled_df.to_csv('../Data/rfm_test_scaled_df.csv', index = True)\n",
    "\n",
    "# Convert Model 2 arrays to DF\n",
    "rfm_expanded_train_scaled_df = pd.DataFrame(rfm_expanded_train_scaled, columns=list(rfm_expanded_train.columns), index=rfm_expanded_train.index)\n",
    "rfm_expanded_test_scaled_df = pd.DataFrame(rfm_expanded_test_scaled, columns=list(rfm_expanded_test.columns), index=rfm_expanded_test.index)\n",
    "\n",
    "# Export Model 2 train/test data\n",
    "rfm_expanded_train_scaled_df.to_csv('../Data/rfm_expanded_train_scaled_df.csv', index = True)\n",
    "rfm_expanded_test_scaled_df.to_csv('../Data/rfm_expanded_test_scaled_df.csv', index = True)\n"
   ]
  },
  {
   "cell_type": "code",
   "execution_count": 30,
   "id": "5aef24ab",
   "metadata": {},
   "outputs": [],
   "source": [
    "# rfm_train_scaled_df\n",
    "# rfm_test_scaled_df\n",
    "# rfm_expanded_train_scaled_df\n",
    "# rfm_expanded_test_scaled_df"
   ]
  }
 ],
 "metadata": {
  "kernelspec": {
   "display_name": "Python 3 (ipykernel)",
   "language": "python",
   "name": "python3"
  },
  "language_info": {
   "codemirror_mode": {
    "name": "ipython",
    "version": 3
   },
   "file_extension": ".py",
   "mimetype": "text/x-python",
   "name": "python",
   "nbconvert_exporter": "python",
   "pygments_lexer": "ipython3",
   "version": "3.11.5"
  }
 },
 "nbformat": 4,
 "nbformat_minor": 5
}
