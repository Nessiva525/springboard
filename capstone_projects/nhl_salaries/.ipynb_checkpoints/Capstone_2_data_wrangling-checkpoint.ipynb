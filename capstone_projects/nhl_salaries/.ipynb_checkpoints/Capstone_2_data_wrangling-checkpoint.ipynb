{
 "cells": [
  {
   "cell_type": "markdown",
   "id": "eb805cd8",
   "metadata": {},
   "source": [
    "**Import Libraries**"
   ]
  },
  {
   "cell_type": "code",
   "execution_count": 1,
   "id": "60f58dd7",
   "metadata": {},
   "outputs": [],
   "source": [
    "import pandas as pd\n",
    "import numpy as np\n",
    "import glob\n",
    "import ydata_profiling"
   ]
  },
  {
   "cell_type": "markdown",
   "id": "19fd13e8",
   "metadata": {},
   "source": [
    "**Load capfriendly.com**  \n",
    "Data includes all players with an NHL contract in the 2023-34 season reguardless of whether they played a game or not\n",
    "\n",
    "Data Reference: https://www.capfriendly.com/browse/active/2025/salary?stats-season=2024&display=signing-team,country,weight,height,draft,waivers-exempt,signing-status,expiry-year,performance-bonus,signing-bonus,caphit-percent,aav,length,minors-salary,base-salary,skater-individual-advanced-stats,skater-on-ice-advanced-stats,goalie-advanced-stats,arbitration-eligible,type,signing-age,signing-date,arbitration,extension"
   ]
  },
  {
   "cell_type": "code",
   "execution_count": 8,
   "id": "49745f8d",
   "metadata": {},
   "outputs": [
    {
     "data": {
      "text/plain": [
       "(1571, 58)"
      ]
     },
     "execution_count": 8,
     "metadata": {},
     "output_type": "execute_result"
    }
   ],
   "source": [
    "capfriendly = pd.read_csv(r'/Users/ness/Desktop/Springboard/Projects/-Capstone 2/NHL Salaries/data/23_24_capfriendly_extended_data.csv')\n",
    "capfriendly.shape"
   ]
  },
  {
   "cell_type": "markdown",
   "id": "67f767f9",
   "metadata": {},
   "source": [
    "**Load and combine NHL.com data**  \n",
    "Data include only includes skaters (goalies excluded) who played in at least one game in the NHL during the 2023-24 season"
   ]
  },
  {
   "cell_type": "code",
   "execution_count": 3,
   "id": "af9572a9",
   "metadata": {},
   "outputs": [],
   "source": [
    "# specifying the path to .xlsx files\n",
    "path = \"/Users/ness/Desktop/Springboard/Projects/-Capstone 2/NHL Salaries/data/\"\n",
    " \n",
    "# .xlsx files in the path\n",
    "file_list = glob.glob(path + \"/*.xlsx\")\n",
    " \n",
    "# list of excel files we want to merge.\n",
    "excl_list = []\n",
    " \n",
    "for file in file_list:\n",
    "    excl_list.append(pd.read_excel(file))\n",
    " \n",
    "# concatenate all DataFrames in the list\n",
    "nhl_official_merged = pd.concat(excl_list, ignore_index=True)\n"
   ]
  },
  {
   "cell_type": "markdown",
   "id": "4b52f6e5",
   "metadata": {},
   "source": [
    "**Export merged NHL.com data to .csv**  "
   ]
  },
  {
   "cell_type": "code",
   "execution_count": null,
   "id": "70bdefef",
   "metadata": {},
   "outputs": [],
   "source": [
    "nhl_official_merged.to_csv('/Users/ness/Desktop/Springboard/Projects/-Capstone 2/NHL Salaries/data/nhl_official_merged.csv', index=False)"
   ]
  },
  {
   "cell_type": "markdown",
   "id": "5d891697",
   "metadata": {},
   "source": [
    "**Rename nhl_official_merged for ease of use**"
   ]
  },
  {
   "cell_type": "code",
   "execution_count": 4,
   "id": "6459d635",
   "metadata": {},
   "outputs": [
    {
     "data": {
      "text/plain": [
       "True"
      ]
     },
     "execution_count": 4,
     "metadata": {},
     "output_type": "execute_result"
    }
   ],
   "source": [
    "nhl = nhl_official_merged\n",
    "\n",
    "nhl_official_merged.shape == nhl.shape"
   ]
  },
  {
   "cell_type": "markdown",
   "id": "c12f50f3",
   "metadata": {},
   "source": [
    "**View and correct data types for both datasets**"
   ]
  },
  {
   "cell_type": "code",
   "execution_count": 15,
   "id": "32589725",
   "metadata": {},
   "outputs": [
    {
     "data": {
      "text/plain": [
       "<bound method NDFrame.head of 0       COL\n",
       "1       EDM\n",
       "2       NYR\n",
       "3       TOR\n",
       "4       PIT\n",
       "       ... \n",
       "1566    NYI\n",
       "1567    CBJ\n",
       "1568    TBL\n",
       "1569    CHI\n",
       "1570    OTT\n",
       "Name: TEAM, Length: 1571, dtype: object>"
      ]
     },
     "execution_count": 15,
     "metadata": {},
     "output_type": "execute_result"
    }
   ],
   "source": [
    "capfriendly['TEAM'].head"
   ]
  },
  {
   "cell_type": "code",
   "execution_count": 14,
   "id": "c041a15d",
   "metadata": {},
   "outputs": [
    {
     "data": {
      "text/plain": [
       "dtype('O')"
      ]
     },
     "execution_count": 14,
     "metadata": {},
     "output_type": "execute_result"
    }
   ],
   "source": [
    "capfriendly['TEAM'].dtypes"
   ]
  },
  {
   "cell_type": "markdown",
   "id": "ed32f59b",
   "metadata": {},
   "source": [
    "features seperated by type (to be changed to):\n",
    "https://docs.google.com/document/d/1F8UDKo5p10ED4UygCGKGzrnNQBuGPRt0FqkQwN16b9M/edit?usp=sharing"
   ]
  },
  {
   "cell_type": "code",
   "execution_count": 10,
   "id": "91e4a543",
   "metadata": {},
   "outputs": [
    {
     "data": {
      "text/plain": [
       "dtype('O')"
      ]
     },
     "execution_count": 10,
     "metadata": {},
     "output_type": "execute_result"
    }
   ],
   "source": [
    "#to_string = ['PLAYER', 'TEAM', 'COUNTRY', 'POS', 'HANDED', 'SIGNING TEAM', 'CLAUSE', 'SIGNING', 'EXPIRY']\n",
    "#capfriendly[['PLAYER', 'TEAM', 'COUNTRY', 'POS', 'HANDED', 'SIGNING TEAM', 'CLAUSE', 'SIGNING', 'EXPIRY']] = capfriendly[['PLAYER', 'TEAM', 'COUNTRY', 'POS', 'HANDED', 'SIGNING TEAM', 'CLAUSE', 'SIGNING', 'EXPIRY']].astype('str')\n",
    "#capfriendly.dtypes\n",
    "\n",
    "capfriendly[['TEAM']] = capfriendly[['TEAM']].astype(str)\n",
    "capfriendly['TEAM'].dtype\n"
   ]
  },
  {
   "cell_type": "code",
   "execution_count": 11,
   "id": "b1f80f08",
   "metadata": {},
   "outputs": [
    {
     "data": {
      "text/plain": [
       "Index(['PLAYER', 'TEAM', 'AGE', 'COUNTRY', 'WEIGHT', 'HEIGHT', 'POS', 'HANDED',\n",
       "       'GP', 'G', 'A', 'P', 'P/GP', '+/-', 'Sh', 'Sh%', 'TOI', 'ixG', 'iSh',\n",
       "       'iCF', 'iFF', 'ixG60', 'iSh60', 'iCF60', 'iFF60', 'SF', 'SA', 'SF%',\n",
       "       'CF', 'CA', 'CF%', 'FF', 'FA', 'FF%', 'xGF', 'xGA', 'xGF%', 'W', 'L',\n",
       "       'SO', 'GAA', 'Sv%', 'GA60', 'xGA60', 'GSAx60', 'SIGNING TEAM',\n",
       "       'EXTENSION', 'SIGNING DATE', 'SIGNING AGE', 'CLAUSE', 'LENGTH',\n",
       "       'SIGNING', 'EXPIRY', 'EXP. YEAR', 'CAP HIT', 'CAP HIT %', 'AAV',\n",
       "       'SALARY'],\n",
       "      dtype='object')"
      ]
     },
     "execution_count": 11,
     "metadata": {},
     "output_type": "execute_result"
    }
   ],
   "source": [
    "capfriendly.columns"
   ]
  },
  {
   "cell_type": "code",
   "execution_count": null,
   "id": "9c0b9fe3",
   "metadata": {},
   "outputs": [],
   "source": []
  },
  {
   "cell_type": "code",
   "execution_count": null,
   "id": "f1e3feda",
   "metadata": {},
   "outputs": [],
   "source": [
    "pd.unique(capfriendly['EXTENSION'])"
   ]
  },
  {
   "cell_type": "markdown",
   "id": "98a0d0c9",
   "metadata": {},
   "source": [
    "## Follow up: \n",
    "\n"
   ]
  },
  {
   "cell_type": "code",
   "execution_count": null,
   "id": "4823a25a",
   "metadata": {},
   "outputs": [],
   "source": [
    "#remove $ change to int\n",
    "pd.unique(capfriendly['SALARY'])"
   ]
  },
  {
   "cell_type": "code",
   "execution_count": null,
   "id": "1ae25abb",
   "metadata": {},
   "outputs": [],
   "source": [
    "#remove $ change to int\n",
    "pd.unique(capfriendly['AAV'])"
   ]
  },
  {
   "cell_type": "code",
   "execution_count": null,
   "id": "46af89c8",
   "metadata": {},
   "outputs": [],
   "source": [
    "#remove % change to float\n",
    "pd.unique(capfriendly['CAP HIT %'])"
   ]
  },
  {
   "cell_type": "code",
   "execution_count": null,
   "id": "164462bc",
   "metadata": {
    "scrolled": true
   },
   "outputs": [],
   "source": [
    "#remove $ change to int\n",
    "pd.unique(capfriendly['CAP HIT'])"
   ]
  },
  {
   "cell_type": "code",
   "execution_count": null,
   "id": "3c43d5b2",
   "metadata": {},
   "outputs": [],
   "source": [
    "#simplify to year\n",
    "pd.unique(capfriendly['SIGNING DATE'])"
   ]
  },
  {
   "cell_type": "code",
   "execution_count": null,
   "id": "eb36ebb2",
   "metadata": {},
   "outputs": [],
   "source": [
    "#change to boolean\n",
    "pd.unique(capfriendly['EXTENSION'])"
   ]
  },
  {
   "cell_type": "code",
   "execution_count": null,
   "id": "b3a36c10",
   "metadata": {},
   "outputs": [],
   "source": [
    "#change from MM:SS to something else\n",
    "pd.unique(capfriendly['TOI'])"
   ]
  },
  {
   "cell_type": "code",
   "execution_count": null,
   "id": "03898d50",
   "metadata": {},
   "outputs": [],
   "source": [
    "#these dont have the same cap hit and AAV. explore why\n",
    "capfriendly[capfriendly['CAP HIT'] != capfriendly['AAV']]"
   ]
  },
  {
   "cell_type": "code",
   "execution_count": null,
   "id": "dd6958fd",
   "metadata": {},
   "outputs": [],
   "source": [
    "capfriendly.head()"
   ]
  },
  {
   "cell_type": "code",
   "execution_count": null,
   "id": "2668a7ca",
   "metadata": {},
   "outputs": [],
   "source": [
    "nhl.dtypes"
   ]
  },
  {
   "cell_type": "code",
   "execution_count": null,
   "id": "be0dcade",
   "metadata": {},
   "outputs": [],
   "source": [
    "nhl.head()"
   ]
  },
  {
   "cell_type": "markdown",
   "id": "96133b5f",
   "metadata": {},
   "source": [
    "**Limit capfriendly.com data to only skaters**"
   ]
  },
  {
   "cell_type": "code",
   "execution_count": null,
   "id": "d669532b",
   "metadata": {},
   "outputs": [],
   "source": [
    "capfriendly = capfriendly[capfriendly['POS']!='G']\n",
    "capfriendly.shape"
   ]
  },
  {
   "cell_type": "markdown",
   "id": "369aafaa",
   "metadata": {},
   "source": [
    "**Use player names from NHL official data to filter capfriendly data**  \n",
    "Limit capfriendly data to only players that played in the NHL during the 2023-24 season"
   ]
  },
  {
   "cell_type": "code",
   "execution_count": null,
   "id": "82140c8b",
   "metadata": {},
   "outputs": [],
   "source": [
    "# player names from NHL offical data\n",
    "names = nhl['Player'].to_list()\n",
    "names\n",
    "#filter cap friendly\n",
    "#test = capfriendly[capfriendly['PLAYER'].isin(names)]\n",
    "#test.shape\n",
    "capfriendly.query('PLAYER in @names')\n"
   ]
  },
  {
   "cell_type": "code",
   "execution_count": null,
   "id": "527c2934",
   "metadata": {},
   "outputs": [],
   "source": [
    "pd.DataFrame.query?\n"
   ]
  }
 ],
 "metadata": {
  "kernelspec": {
   "display_name": "Python 3 (ipykernel)",
   "language": "python",
   "name": "python3"
  },
  "language_info": {
   "codemirror_mode": {
    "name": "ipython",
    "version": 3
   },
   "file_extension": ".py",
   "mimetype": "text/x-python",
   "name": "python",
   "nbconvert_exporter": "python",
   "pygments_lexer": "ipython3",
   "version": "3.11.5"
  }
 },
 "nbformat": 4,
 "nbformat_minor": 5
}
