{
 "cells": [
  {
   "cell_type": "markdown",
   "id": "d0650f82",
   "metadata": {},
   "source": [
    "# Capstone 2 -- Preprocessing and Training Data Development"
   ]
  },
  {
   "cell_type": "markdown",
   "id": "b9010df2",
   "metadata": {},
   "source": [
    "## Introduction\n",
    "This is notebook 3 of Springboard Capstone 2 covering Preprocessing and Training Developpment.  The previous notebooks covered 1. Data Wrangling and 2. EDA.\n",
    "<br><br>\n",
    "**The Data**<br>\n",
    "The Data is derived from the [Online Retail II](https://archive.ics.uci.edu/dataset/502/online+retail+ii) dataset from the UCI machine learning repository.  The original dataset was a collection of all online transations from a UK based retail company from 01/12/2009 to 09/12/2011. \n",
    "<br><br>\n",
    "The data was was cleaned to remove all cancelled orders, any duplicates and other miscelaneous items that needed cleaning.  The data was then split into two dataframes, one with known customers and one with unknown customers.  The unknown customer data was set aside and the known customer data was grouped by customer and transformed into a Recency, Frequency, Monetary (RFM) dataset.   \n",
    "<br>\n",
    "**The Goal** <br>\n",
    "The goal with this project is to find the distinct customer segments to to allow the company to better focus on marketing strategies for each segment. The goal of this notebook is to expand the features of the dataset and to prepare the data for modeling."
   ]
  },
  {
   "cell_type": "markdown",
   "id": "a5ea311e",
   "metadata": {},
   "source": [
    "## Imports and Defaults"
   ]
  },
  {
   "cell_type": "markdown",
   "id": "997a2dae",
   "metadata": {},
   "source": [
    "**Import Libraries**"
   ]
  },
  {
   "cell_type": "code",
   "execution_count": 201,
   "id": "1997751d",
   "metadata": {},
   "outputs": [],
   "source": [
    "import pandas as pd\n",
    "import numpy as np\n",
    "from sklearn.preprocessing import PowerTransformer, StandardScaler\n",
    "import matplotlib.pyplot as plt\n",
    "import seaborn as sns"
   ]
  },
  {
   "cell_type": "markdown",
   "id": "8f8bef12",
   "metadata": {},
   "source": [
    "**Set Default Preferences**"
   ]
  },
  {
   "cell_type": "code",
   "execution_count": 203,
   "id": "8d31c3ae",
   "metadata": {},
   "outputs": [],
   "source": [
    "# display all columns\n",
    "pd.set_option('display.max_columns', None)\n",
    "\n",
    "# surpress scientific notation\n",
    "pd.options.display.float_format = '{:}'.format"
   ]
  },
  {
   "cell_type": "markdown",
   "id": "8407f85b",
   "metadata": {},
   "source": [
    "**Import Data**"
   ]
  },
  {
   "cell_type": "markdown",
   "id": "6fac1c73",
   "metadata": {},
   "source": [
    "**'rfm' Dataframe**<br>\n",
    "The 'rfm' dataframe is the main dataframe that will be used for modeling. It includes Recency, Frequency, and Monetary calculations from the 'has_id' df in the previous step which represents transactions from known customers in the Online Retail II dataset."
   ]
  },
  {
   "cell_type": "code",
   "execution_count": 206,
   "id": "3a12bba3",
   "metadata": {},
   "outputs": [],
   "source": [
    "# import rfm df\n",
    "path = '../Data/rfm.csv'\n",
    "rfm = pd.read_csv(path)"
   ]
  },
  {
   "cell_type": "code",
   "execution_count": 207,
   "id": "454d4706",
   "metadata": {},
   "outputs": [
    {
     "name": "stdout",
     "output_type": "stream",
     "text": [
      "<class 'pandas.core.frame.DataFrame'>\n",
      "RangeIndex: 5878 entries, 0 to 5877\n",
      "Data columns (total 4 columns):\n",
      " #   Column       Non-Null Count  Dtype  \n",
      "---  ------       --------------  -----  \n",
      " 0   Customer ID  5878 non-null   float64\n",
      " 1   Recency      5878 non-null   int64  \n",
      " 2   Frequency    5878 non-null   int64  \n",
      " 3   Monetary     5878 non-null   float64\n",
      "dtypes: float64(2), int64(2)\n",
      "memory usage: 183.8 KB\n"
     ]
    }
   ],
   "source": [
    "rfm.info()"
   ]
  },
  {
   "cell_type": "markdown",
   "id": "88c073e7",
   "metadata": {},
   "source": [
    "Reload rfm with correct dtype and assign 'Customer ID' as the index"
   ]
  },
  {
   "cell_type": "code",
   "execution_count": 209,
   "id": "92b00975",
   "metadata": {},
   "outputs": [],
   "source": [
    "# Reload rfm with correct dtype\n",
    "path = '../Data/rfm.csv'\n",
    "dtype_dict= {'Recency': 'int32',\n",
    "               'Frequency': 'int32',\n",
    "               'Monetary': 'float32'}\n",
    "rfm = pd.read_csv(path, dtype= dtype_dict, index_col='Customer ID')"
   ]
  },
  {
   "cell_type": "code",
   "execution_count": 210,
   "id": "0af7dfb5",
   "metadata": {},
   "outputs": [
    {
     "name": "stdout",
     "output_type": "stream",
     "text": [
      "<class 'pandas.core.frame.DataFrame'>\n",
      "Index: 5878 entries, 12346.0 to 18287.0\n",
      "Data columns (total 3 columns):\n",
      " #   Column     Non-Null Count  Dtype  \n",
      "---  ------     --------------  -----  \n",
      " 0   Recency    5878 non-null   int32  \n",
      " 1   Frequency  5878 non-null   int32  \n",
      " 2   Monetary   5878 non-null   float32\n",
      "dtypes: float32(1), int32(2)\n",
      "memory usage: 114.8 KB\n"
     ]
    }
   ],
   "source": [
    "rfm.info()"
   ]
  },
  {
   "cell_type": "code",
   "execution_count": 211,
   "id": "0a582488",
   "metadata": {
    "scrolled": true
   },
   "outputs": [
    {
     "data": {
      "text/html": [
       "<div>\n",
       "<style scoped>\n",
       "    .dataframe tbody tr th:only-of-type {\n",
       "        vertical-align: middle;\n",
       "    }\n",
       "\n",
       "    .dataframe tbody tr th {\n",
       "        vertical-align: top;\n",
       "    }\n",
       "\n",
       "    .dataframe thead th {\n",
       "        text-align: right;\n",
       "    }\n",
       "</style>\n",
       "<table border=\"1\" class=\"dataframe\">\n",
       "  <thead>\n",
       "    <tr style=\"text-align: right;\">\n",
       "      <th></th>\n",
       "      <th>Recency</th>\n",
       "      <th>Frequency</th>\n",
       "      <th>Monetary</th>\n",
       "    </tr>\n",
       "  </thead>\n",
       "  <tbody>\n",
       "    <tr>\n",
       "      <th>count</th>\n",
       "      <td>5878.0</td>\n",
       "      <td>5878.0</td>\n",
       "      <td>5878.0</td>\n",
       "    </tr>\n",
       "    <tr>\n",
       "      <th>mean</th>\n",
       "      <td>201.331915617557</td>\n",
       "      <td>6.289384144266758</td>\n",
       "      <td>2955.904052734375</td>\n",
       "    </tr>\n",
       "    <tr>\n",
       "      <th>std</th>\n",
       "      <td>209.33870672957246</td>\n",
       "      <td>13.009405882310057</td>\n",
       "      <td>14440.83984375</td>\n",
       "    </tr>\n",
       "    <tr>\n",
       "      <th>min</th>\n",
       "      <td>1.0</td>\n",
       "      <td>1.0</td>\n",
       "      <td>2.950000047683716</td>\n",
       "    </tr>\n",
       "    <tr>\n",
       "      <th>25%</th>\n",
       "      <td>26.0</td>\n",
       "      <td>1.0</td>\n",
       "      <td>342.27999114990234</td>\n",
       "    </tr>\n",
       "    <tr>\n",
       "      <th>50%</th>\n",
       "      <td>96.0</td>\n",
       "      <td>3.0</td>\n",
       "      <td>867.739990234375</td>\n",
       "    </tr>\n",
       "    <tr>\n",
       "      <th>75%</th>\n",
       "      <td>380.0</td>\n",
       "      <td>7.0</td>\n",
       "      <td>2248.3049926757812</td>\n",
       "    </tr>\n",
       "    <tr>\n",
       "      <th>max</th>\n",
       "      <td>739.0</td>\n",
       "      <td>398.0</td>\n",
       "      <td>580987.0625</td>\n",
       "    </tr>\n",
       "  </tbody>\n",
       "</table>\n",
       "</div>"
      ],
      "text/plain": [
       "                 Recency          Frequency           Monetary\n",
       "count             5878.0             5878.0             5878.0\n",
       "mean    201.331915617557  6.289384144266758  2955.904052734375\n",
       "std   209.33870672957246 13.009405882310057     14440.83984375\n",
       "min                  1.0                1.0  2.950000047683716\n",
       "25%                 26.0                1.0 342.27999114990234\n",
       "50%                 96.0                3.0   867.739990234375\n",
       "75%                380.0                7.0 2248.3049926757812\n",
       "max                739.0              398.0        580987.0625"
      ]
     },
     "execution_count": 211,
     "metadata": {},
     "output_type": "execute_result"
    }
   ],
   "source": [
    "rfm.describe()"
   ]
  },
  {
   "cell_type": "markdown",
   "id": "4fee5941",
   "metadata": {},
   "source": [
    "**'has_id' Dataframe** <br>\n",
    "The 'has_id' dataframe is imported for feature engineering to calculate customer lifetime and Customer Lifetime Value."
   ]
  },
  {
   "cell_type": "code",
   "execution_count": 213,
   "id": "a192cb40",
   "metadata": {},
   "outputs": [
    {
     "name": "stdout",
     "output_type": "stream",
     "text": [
      "<class 'pandas.core.frame.DataFrame'>\n",
      "RangeIndex: 779425 entries, 0 to 779424\n",
      "Data columns (total 9 columns):\n",
      " #   Column       Non-Null Count   Dtype  \n",
      "---  ------       --------------   -----  \n",
      " 0   Invoice      779425 non-null  int64  \n",
      " 1   StockCode    779425 non-null  object \n",
      " 2   Description  779425 non-null  object \n",
      " 3   Quantity     779425 non-null  int64  \n",
      " 4   InvoiceDate  779425 non-null  object \n",
      " 5   Price        779425 non-null  float64\n",
      " 6   Customer ID  779425 non-null  float64\n",
      " 7   Country      779425 non-null  object \n",
      " 8   Sales        779425 non-null  float64\n",
      "dtypes: float64(3), int64(2), object(4)\n",
      "memory usage: 53.5+ MB\n"
     ]
    }
   ],
   "source": [
    "path2 = '../Data/has_id.csv'\n",
    "has_id = pd.read_csv(path2)\n",
    "has_id.info()"
   ]
  },
  {
   "cell_type": "code",
   "execution_count": 214,
   "id": "3360cda7",
   "metadata": {},
   "outputs": [
    {
     "name": "stdout",
     "output_type": "stream",
     "text": [
      "<class 'pandas.core.frame.DataFrame'>\n",
      "RangeIndex: 779425 entries, 0 to 779424\n",
      "Data columns (total 9 columns):\n",
      " #   Column       Non-Null Count   Dtype         \n",
      "---  ------       --------------   -----         \n",
      " 0   Invoice      779425 non-null  string        \n",
      " 1   StockCode    779425 non-null  string        \n",
      " 2   Description  779425 non-null  string        \n",
      " 3   Quantity     779425 non-null  int32         \n",
      " 4   InvoiceDate  779425 non-null  datetime64[ns]\n",
      " 5   Price        779425 non-null  float32       \n",
      " 6   Customer ID  779425 non-null  string        \n",
      " 7   Country      779425 non-null  string        \n",
      " 8   Sales        779425 non-null  float32       \n",
      "dtypes: datetime64[ns](1), float32(2), int32(1), string(5)\n",
      "memory usage: 44.6 MB\n"
     ]
    }
   ],
   "source": [
    "# Reload with correct dtype\n",
    "dtype_dict2 = {'Invoice':'string',\n",
    "              'StockCode':'string',\n",
    "              'Description':'string',\n",
    "              'Quantity':'int32',\n",
    "              'Price':'float32',\n",
    "              'Customer ID':'string',\n",
    "              'Country':'string',\n",
    "              'Sales':'float32'}\n",
    "\n",
    "has_id = pd.read_csv(path2, dtype=dtype_dict2, parse_dates=['InvoiceDate'])\n",
    "has_id.info()"
   ]
  },
  {
   "cell_type": "markdown",
   "id": "424e047c",
   "metadata": {},
   "source": [
    "## Model 1: RFM only"
   ]
  },
  {
   "cell_type": "markdown",
   "id": "7a8cd8a2",
   "metadata": {},
   "source": [
    "### Model 1: Pre Processing - Transform and Scale\n",
    "Due to the highly skewed nature of the data and the different magnitudes of the data, the dataframe will be transformed and standardized. Power Transformer will be used to transform the data to deal with the skewness. Standard Scaler will be used to standardized the data to deal with differences in magnitude."
   ]
  },
  {
   "cell_type": "code",
   "execution_count": 217,
   "id": "d44f7a68",
   "metadata": {},
   "outputs": [],
   "source": [
    "# Transform data\n",
    "power_transformer = PowerTransformer()\n",
    "rfm_transformed = power_transformer.fit_transform(rfm)\n",
    "\n",
    "# Scale data\n",
    "scaler = StandardScaler()\n",
    "rfm_scaled = scaler.fit_transform(rfm_transformed)"
   ]
  },
  {
   "cell_type": "code",
   "execution_count": 218,
   "id": "863ba952",
   "metadata": {},
   "outputs": [
    {
     "data": {
      "image/png": "[encoded data removed]",
      "text/plain": [
       "<Figure size 1200x800 with 4 Axes>"
      ]
     },
     "metadata": {},
     "output_type": "display_data"
    }
   ],
   "source": [
    "# Example: Creating the DataFrame to view trqnsformes and scaled data\n",
    "scaled_transformed_df = pd.DataFrame(rfm_scaled, columns=['Recency', 'Frequency', 'Monetary'])\n",
    "\n",
    "# Plot histograms\n",
    "axes = scaled_transformed_df.hist(\n",
    "    bins=int(np.sqrt(len(scaled_transformed_df))), \n",
    "    figsize=(12, 8), \n",
    "    color='skyblue', \n",
    "    edgecolor='black'\n",
    ")\n",
    "\n",
    "# Add an overall title to the figure\n",
    "plt.suptitle('Distributions of Scaled and Transformed Features in Model 1 ', fontsize=16)\n",
    "\n",
    "# Optional: Add individual titles for each subplot\n",
    "for ax, column in zip(axes.flatten(), scaled_transformed_df.columns):\n",
    "    ax.set_title(f'Distribution of {column}')\n",
    "\n",
    "plt.tight_layout(rect=[0, 0, 1, 0.95])  # Adjust layout to fit the suptitle\n",
    "plt.show()\n"
   ]
  },
  {
   "cell_type": "markdown",
   "id": "b9cd8597",
   "metadata": {},
   "source": [
    "While the distributions are not perfectly normal thay are way less skewed and they are standardized."
   ]
  },
  {
   "cell_type": "markdown",
   "id": "6d12207a",
   "metadata": {},
   "source": [
    "## Model 2: RFM w/ Expanded Features\n",
    "Model two will expand on the RFM model and add additional features including Average Order Value, Customer Lifetime, and Customer Lifetime Value."
   ]
  },
  {
   "cell_type": "markdown",
   "id": "f3a0cf9f",
   "metadata": {},
   "source": [
    "### Feature Engineering"
   ]
  },
  {
   "cell_type": "code",
   "execution_count": 222,
   "id": "ab6b2400",
   "metadata": {},
   "outputs": [
    {
     "data": {
      "text/plain": [
       "Index(['Recency', 'Frequency', 'Monetary'], dtype='object')"
      ]
     },
     "execution_count": 222,
     "metadata": {},
     "output_type": "execute_result"
    }
   ],
   "source": [
    "rfm.columns"
   ]
  },
  {
   "cell_type": "code",
   "execution_count": 223,
   "id": "9e53982a",
   "metadata": {},
   "outputs": [],
   "source": [
    "#Copy rfm to form new df for added features\n",
    "rfm_expanded = rfm.copy(deep=True)"
   ]
  },
  {
   "cell_type": "markdown",
   "id": "b281743b",
   "metadata": {},
   "source": [
    "**Average Order Value** give insight into the size of average orders."
   ]
  },
  {
   "cell_type": "code",
   "execution_count": 225,
   "id": "3d98fed7",
   "metadata": {},
   "outputs": [
    {
     "data": {
      "text/html": [
       "<div>\n",
       "<style scoped>\n",
       "    .dataframe tbody tr th:only-of-type {\n",
       "        vertical-align: middle;\n",
       "    }\n",
       "\n",
       "    .dataframe tbody tr th {\n",
       "        vertical-align: top;\n",
       "    }\n",
       "\n",
       "    .dataframe thead th {\n",
       "        text-align: right;\n",
       "    }\n",
       "</style>\n",
       "<table border=\"1\" class=\"dataframe\">\n",
       "  <thead>\n",
       "    <tr style=\"text-align: right;\">\n",
       "      <th></th>\n",
       "      <th>Recency</th>\n",
       "      <th>Frequency</th>\n",
       "      <th>Monetary</th>\n",
       "      <th>AOV</th>\n",
       "    </tr>\n",
       "    <tr>\n",
       "      <th>Customer ID</th>\n",
       "      <th></th>\n",
       "      <th></th>\n",
       "      <th></th>\n",
       "      <th></th>\n",
       "    </tr>\n",
       "  </thead>\n",
       "  <tbody>\n",
       "    <tr>\n",
       "      <th>12346.0</th>\n",
       "      <td>326</td>\n",
       "      <td>12</td>\n",
       "      <td>77556.4609375</td>\n",
       "      <td>6463.038411458333</td>\n",
       "    </tr>\n",
       "    <tr>\n",
       "      <th>12347.0</th>\n",
       "      <td>2</td>\n",
       "      <td>8</td>\n",
       "      <td>4921.52978515625</td>\n",
       "      <td>615.1912231445312</td>\n",
       "    </tr>\n",
       "    <tr>\n",
       "      <th>12348.0</th>\n",
       "      <td>75</td>\n",
       "      <td>5</td>\n",
       "      <td>2019.4000244140625</td>\n",
       "      <td>403.8800048828125</td>\n",
       "    </tr>\n",
       "    <tr>\n",
       "      <th>12349.0</th>\n",
       "      <td>19</td>\n",
       "      <td>4</td>\n",
       "      <td>4428.68994140625</td>\n",
       "      <td>1107.1724853515625</td>\n",
       "    </tr>\n",
       "    <tr>\n",
       "      <th>12350.0</th>\n",
       "      <td>310</td>\n",
       "      <td>1</td>\n",
       "      <td>334.3999938964844</td>\n",
       "      <td>334.3999938964844</td>\n",
       "    </tr>\n",
       "    <tr>\n",
       "      <th>...</th>\n",
       "      <td>...</td>\n",
       "      <td>...</td>\n",
       "      <td>...</td>\n",
       "      <td>...</td>\n",
       "    </tr>\n",
       "    <tr>\n",
       "      <th>18283.0</th>\n",
       "      <td>4</td>\n",
       "      <td>22</td>\n",
       "      <td>2664.89990234375</td>\n",
       "      <td>121.13181374289773</td>\n",
       "    </tr>\n",
       "    <tr>\n",
       "      <th>18284.0</th>\n",
       "      <td>432</td>\n",
       "      <td>1</td>\n",
       "      <td>461.67999267578125</td>\n",
       "      <td>461.67999267578125</td>\n",
       "    </tr>\n",
       "    <tr>\n",
       "      <th>18285.0</th>\n",
       "      <td>661</td>\n",
       "      <td>1</td>\n",
       "      <td>427.0</td>\n",
       "      <td>427.0</td>\n",
       "    </tr>\n",
       "    <tr>\n",
       "      <th>18286.0</th>\n",
       "      <td>477</td>\n",
       "      <td>2</td>\n",
       "      <td>1296.4300537109375</td>\n",
       "      <td>648.2150268554688</td>\n",
       "    </tr>\n",
       "    <tr>\n",
       "      <th>18287.0</th>\n",
       "      <td>43</td>\n",
       "      <td>7</td>\n",
       "      <td>4182.990234375</td>\n",
       "      <td>597.5700334821429</td>\n",
       "    </tr>\n",
       "  </tbody>\n",
       "</table>\n",
       "<p>5878 rows × 4 columns</p>\n",
       "</div>"
      ],
      "text/plain": [
       "             Recency  Frequency           Monetary                AOV\n",
       "Customer ID                                                          \n",
       "12346.0          326         12      77556.4609375  6463.038411458333\n",
       "12347.0            2          8   4921.52978515625  615.1912231445312\n",
       "12348.0           75          5 2019.4000244140625  403.8800048828125\n",
       "12349.0           19          4   4428.68994140625 1107.1724853515625\n",
       "12350.0          310          1  334.3999938964844  334.3999938964844\n",
       "...              ...        ...                ...                ...\n",
       "18283.0            4         22   2664.89990234375 121.13181374289773\n",
       "18284.0          432          1 461.67999267578125 461.67999267578125\n",
       "18285.0          661          1              427.0              427.0\n",
       "18286.0          477          2 1296.4300537109375  648.2150268554688\n",
       "18287.0           43          7     4182.990234375  597.5700334821429\n",
       "\n",
       "[5878 rows x 4 columns]"
      ]
     },
     "execution_count": 225,
     "metadata": {},
     "output_type": "execute_result"
    }
   ],
   "source": [
    "# calculate Average Order Value (aov)\n",
    "rfm_expanded['AOV'] = rfm.Monetary / rfm.Frequency\n",
    "rfm_expanded"
   ]
  },
  {
   "cell_type": "code",
   "execution_count": 226,
   "id": "30e5d0c1",
   "metadata": {},
   "outputs": [
    {
     "data": {
      "text/plain": [
       "count               5878.0\n",
       "mean    385.18084076162313\n",
       "std     1214.2864588587054\n",
       "min      2.950000047683716\n",
       "25%      176.6825065612793\n",
       "50%     279.24268886021207\n",
       "75%     414.90245351070115\n",
       "max               84236.25\n",
       "Name: AOV, dtype: float64"
      ]
     },
     "execution_count": 226,
     "metadata": {},
     "output_type": "execute_result"
    }
   ],
   "source": [
    "rfm_expanded.AOV.describe()"
   ]
  },
  {
   "cell_type": "markdown",
   "id": "9b6d72c3",
   "metadata": {},
   "source": [
    "**Customer Lifespan (lifespan)** gives insight into the length of time the customer has been purchasing from the company.  Customers with longer lifespans will in theory have higher total Monetary values. This can help distinguish between customers who are recent big spenders customers who have long lifespan and therefor have a higher Monetary Value.  Additionally it give insight into length of time buying from the company.\n",
    "<br><br>\n",
    "The rfm dataframe was created from the has_id dataframe in a previous step but it does not have 'InvoiceDate' which is needed to calculate lifespan.  'has_id' will be used to create the new lifespan value."
   ]
  },
  {
   "cell_type": "code",
   "execution_count": 228,
   "id": "179e5ad8-40a0-47f3-b1fd-2509da86c0a8",
   "metadata": {},
   "outputs": [],
   "source": [
    "# print(rfm_expanded['Customer ID'].nunique(), has_id['Customer ID'].nunique())\n",
    "# rfm_expanded.head()\n",
    "# has_id.head()"
   ]
  },
  {
   "cell_type": "markdown",
   "id": "2c4187cf-330f-41f6-8c6e-b44c7362b45b",
   "metadata": {},
   "source": [
    "Because rfm has the Customer ID set as the index and has_id has it as a column, the index needs to be reset for rfm_expanded before the lifetime calculation and then be set back as the index.  Additionally, I calculated the Recency value as if it were the day after the last transaction.  For consistency, I  will add 1 to the Lifespan calculation to match the date of calculation."
   ]
  },
  {
   "cell_type": "code",
   "execution_count": 230,
   "id": "d66a0559",
   "metadata": {},
   "outputs": [],
   "source": [
    "# Make Customer ID a column\n",
    "rfm_expanded = rfm_expanded.reset_index()  # Make Customer ID a column\n",
    "\n",
    "# create lifespan from latest purchase - earliest purchase + 1 to be consistent with Recency calculation\n",
    "rfm_expanded['Lifespan'] = has_id.groupby('Customer ID')['InvoiceDate'].transform(lambda x: (x.max() - x.min()).days + 1)\n",
    "\n",
    "# re-set Customer ID as index\n",
    "rfm_expanded = rfm_expanded.set_index('Customer ID')  \n"
   ]
  },
  {
   "cell_type": "code",
   "execution_count": 231,
   "id": "193efcd3",
   "metadata": {},
   "outputs": [
    {
     "data": {
      "text/plain": [
       "count               5878.0\n",
       "mean     598.1536236815243\n",
       "std     204.46035175426545\n",
       "min                    1.0\n",
       "25%                  532.0\n",
       "50%                  706.0\n",
       "75%                  730.0\n",
       "max                  739.0\n",
       "Name: Lifespan, dtype: float64"
      ]
     },
     "execution_count": 231,
     "metadata": {},
     "output_type": "execute_result"
    }
   ],
   "source": [
    "rfm_expanded.Lifespan.describe()"
   ]
  },
  {
   "cell_type": "markdown",
   "id": "09621f35",
   "metadata": {},
   "source": [
    "**Customer Lifetime Value (CLV)** gives better insight into customer segmentation than RFM alone.  Customers can have similar RFM but very different CLV.  Adding CLV allows the company to focus on the value the customer adds.  It also allows the company to market to different types of customers."
   ]
  },
  {
   "cell_type": "code",
   "execution_count": 233,
   "id": "f2002562",
   "metadata": {},
   "outputs": [
    {
     "data": {
      "text/html": [
       "<div>\n",
       "<style scoped>\n",
       "    .dataframe tbody tr th:only-of-type {\n",
       "        vertical-align: middle;\n",
       "    }\n",
       "\n",
       "    .dataframe tbody tr th {\n",
       "        vertical-align: top;\n",
       "    }\n",
       "\n",
       "    .dataframe thead th {\n",
       "        text-align: right;\n",
       "    }\n",
       "</style>\n",
       "<table border=\"1\" class=\"dataframe\">\n",
       "  <thead>\n",
       "    <tr style=\"text-align: right;\">\n",
       "      <th></th>\n",
       "      <th>Recency</th>\n",
       "      <th>Frequency</th>\n",
       "      <th>Monetary</th>\n",
       "      <th>AOV</th>\n",
       "      <th>Lifespan</th>\n",
       "      <th>CLV</th>\n",
       "    </tr>\n",
       "    <tr>\n",
       "      <th>Customer ID</th>\n",
       "      <th></th>\n",
       "      <th></th>\n",
       "      <th></th>\n",
       "      <th></th>\n",
       "      <th></th>\n",
       "      <th></th>\n",
       "    </tr>\n",
       "  </thead>\n",
       "  <tbody>\n",
       "    <tr>\n",
       "      <th>12346.0</th>\n",
       "      <td>326</td>\n",
       "      <td>12</td>\n",
       "      <td>77556.4609375</td>\n",
       "      <td>6463.038411458333</td>\n",
       "      <td>582</td>\n",
       "      <td>45137860.265625</td>\n",
       "    </tr>\n",
       "    <tr>\n",
       "      <th>12347.0</th>\n",
       "      <td>2</td>\n",
       "      <td>8</td>\n",
       "      <td>4921.52978515625</td>\n",
       "      <td>615.1912231445312</td>\n",
       "      <td>582</td>\n",
       "      <td>2864330.3349609375</td>\n",
       "    </tr>\n",
       "    <tr>\n",
       "      <th>12348.0</th>\n",
       "      <td>75</td>\n",
       "      <td>5</td>\n",
       "      <td>2019.4000244140625</td>\n",
       "      <td>403.8800048828125</td>\n",
       "      <td>582</td>\n",
       "      <td>1175290.8142089844</td>\n",
       "    </tr>\n",
       "    <tr>\n",
       "      <th>12349.0</th>\n",
       "      <td>19</td>\n",
       "      <td>4</td>\n",
       "      <td>4428.68994140625</td>\n",
       "      <td>1107.1724853515625</td>\n",
       "      <td>582</td>\n",
       "      <td>2577497.5458984375</td>\n",
       "    </tr>\n",
       "    <tr>\n",
       "      <th>12350.0</th>\n",
       "      <td>310</td>\n",
       "      <td>1</td>\n",
       "      <td>334.3999938964844</td>\n",
       "      <td>334.3999938964844</td>\n",
       "      <td>582</td>\n",
       "      <td>194620.7964477539</td>\n",
       "    </tr>\n",
       "    <tr>\n",
       "      <th>...</th>\n",
       "      <td>...</td>\n",
       "      <td>...</td>\n",
       "      <td>...</td>\n",
       "      <td>...</td>\n",
       "      <td>...</td>\n",
       "      <td>...</td>\n",
       "    </tr>\n",
       "    <tr>\n",
       "      <th>18283.0</th>\n",
       "      <td>4</td>\n",
       "      <td>22</td>\n",
       "      <td>2664.89990234375</td>\n",
       "      <td>121.13181374289773</td>\n",
       "      <td>728</td>\n",
       "      <td>1940047.12890625</td>\n",
       "    </tr>\n",
       "    <tr>\n",
       "      <th>18284.0</th>\n",
       "      <td>432</td>\n",
       "      <td>1</td>\n",
       "      <td>461.67999267578125</td>\n",
       "      <td>461.67999267578125</td>\n",
       "      <td>728</td>\n",
       "      <td>336103.03466796875</td>\n",
       "    </tr>\n",
       "    <tr>\n",
       "      <th>18285.0</th>\n",
       "      <td>661</td>\n",
       "      <td>1</td>\n",
       "      <td>427.0</td>\n",
       "      <td>427.0</td>\n",
       "      <td>728</td>\n",
       "      <td>310856.0</td>\n",
       "    </tr>\n",
       "    <tr>\n",
       "      <th>18286.0</th>\n",
       "      <td>477</td>\n",
       "      <td>2</td>\n",
       "      <td>1296.4300537109375</td>\n",
       "      <td>648.2150268554688</td>\n",
       "      <td>728</td>\n",
       "      <td>943801.0791015625</td>\n",
       "    </tr>\n",
       "    <tr>\n",
       "      <th>18287.0</th>\n",
       "      <td>43</td>\n",
       "      <td>7</td>\n",
       "      <td>4182.990234375</td>\n",
       "      <td>597.5700334821429</td>\n",
       "      <td>728</td>\n",
       "      <td>3045216.890625</td>\n",
       "    </tr>\n",
       "  </tbody>\n",
       "</table>\n",
       "<p>5878 rows × 6 columns</p>\n",
       "</div>"
      ],
      "text/plain": [
       "             Recency  Frequency           Monetary                AOV  \\\n",
       "Customer ID                                                             \n",
       "12346.0          326         12      77556.4609375  6463.038411458333   \n",
       "12347.0            2          8   4921.52978515625  615.1912231445312   \n",
       "12348.0           75          5 2019.4000244140625  403.8800048828125   \n",
       "12349.0           19          4   4428.68994140625 1107.1724853515625   \n",
       "12350.0          310          1  334.3999938964844  334.3999938964844   \n",
       "...              ...        ...                ...                ...   \n",
       "18283.0            4         22   2664.89990234375 121.13181374289773   \n",
       "18284.0          432          1 461.67999267578125 461.67999267578125   \n",
       "18285.0          661          1              427.0              427.0   \n",
       "18286.0          477          2 1296.4300537109375  648.2150268554688   \n",
       "18287.0           43          7     4182.990234375  597.5700334821429   \n",
       "\n",
       "             Lifespan                CLV  \n",
       "Customer ID                               \n",
       "12346.0           582    45137860.265625  \n",
       "12347.0           582 2864330.3349609375  \n",
       "12348.0           582 1175290.8142089844  \n",
       "12349.0           582 2577497.5458984375  \n",
       "12350.0           582  194620.7964477539  \n",
       "...               ...                ...  \n",
       "18283.0           728   1940047.12890625  \n",
       "18284.0           728 336103.03466796875  \n",
       "18285.0           728           310856.0  \n",
       "18286.0           728  943801.0791015625  \n",
       "18287.0           728     3045216.890625  \n",
       "\n",
       "[5878 rows x 6 columns]"
      ]
     },
     "execution_count": 233,
     "metadata": {},
     "output_type": "execute_result"
    }
   ],
   "source": [
    "# Calculate CLV\n",
    "rfm_expanded['CLV'] = rfm_expanded.AOV * rfm.Frequency * rfm_expanded.Lifespan\n",
    "rfm_expanded"
   ]
  },
  {
   "cell_type": "code",
   "execution_count": 234,
   "id": "72550fc0",
   "metadata": {},
   "outputs": [
    {
     "data": {
      "text/plain": [
       "count               5878.0\n",
       "mean    1814270.9560715777\n",
       "std      8800686.989548817\n",
       "min                  12.75\n",
       "25%     172992.76377868652\n",
       "50%      469471.7133178711\n",
       "75%     1323966.2236328125\n",
       "max         336391509.1875\n",
       "Name: CLV, dtype: float64"
      ]
     },
     "execution_count": 234,
     "metadata": {},
     "output_type": "execute_result"
    }
   ],
   "source": [
    "rfm_expanded.CLV.describe()"
   ]
  },
  {
   "cell_type": "markdown",
   "id": "6ee64c94",
   "metadata": {},
   "source": [
    "### Model 2: Pre Processing - Transform and Scale\n",
    "As like above Power Transformer will be used to handle the skewness and Standard Scaler will be used for standardization."
   ]
  },
  {
   "cell_type": "code",
   "execution_count": 236,
   "id": "bbaf8670",
   "metadata": {},
   "outputs": [],
   "source": [
    "# Transform Model 2 Train Data\n",
    "transformer2 = PowerTransformer()\n",
    "rfm_expanded_transformed = transformer2.fit_transform(rfm_expanded)\n"
   ]
  },
  {
   "cell_type": "code",
   "execution_count": 237,
   "id": "fce06555",
   "metadata": {},
   "outputs": [],
   "source": [
    "# Scale Model 2 Train Data\n",
    "scaler2=StandardScaler()\n",
    "rfm_expanded_scaled = scaler2.fit_transform(rfm_expanded_transformed)\n"
   ]
  },
  {
   "cell_type": "code",
   "execution_count": 238,
   "id": "26dab541",
   "metadata": {},
   "outputs": [
    {
     "data": {
      "image/png": "[encoded data removed]",
      "text/plain": [
       "<Figure size 1200x800 with 6 Axes>"
      ]
     },
     "metadata": {},
     "output_type": "display_data"
    }
   ],
   "source": [
    "# Example: Creating the DataFrame to view transformes and scaled data\n",
    "scaled_transformed_df2 = pd.DataFrame(rfm_expanded_scaled, columns=['Recency', 'Frequency', 'Monetary', 'AOV', 'Lifespan', 'CLV'])\n",
    "\n",
    "# Plot histograms\n",
    "axes = scaled_transformed_df2.hist(\n",
    "    bins=int(np.sqrt(len(scaled_transformed_df2))), \n",
    "    figsize=(12, 8), \n",
    "    color='skyblue', \n",
    "    edgecolor='black'\n",
    ")\n",
    "\n",
    "# Add an overall title to the figure\n",
    "plt.suptitle('Distributions of Scaled and Transformed Features in Model 2', fontsize=16)\n",
    "\n",
    "# Optional: Add individual titles for each subplot\n",
    "for ax, column in zip(axes.flatten(), scaled_transformed_df2.columns):\n",
    "    ax.set_title(f'Distribution of {column}')\n",
    "\n",
    "plt.tight_layout(rect=[0, 0, 1, 0.95])  # Adjust layout to fit the suptitle\n",
    "plt.show()"
   ]
  },
  {
   "cell_type": "markdown",
   "id": "5f87c25b",
   "metadata": {},
   "source": [
    "Again, the Data is not perfectly normal but has more normal distributions than the untransformed data."
   ]
  },
  {
   "cell_type": "markdown",
   "id": "c7a3461c",
   "metadata": {},
   "source": [
    "## Export Datasets\n",
    "Export for future use the expanded rfm dataframe, and the scaled version of rfm and rfm_expanded."
   ]
  },
  {
   "cell_type": "code",
   "execution_count": 241,
   "id": "243bd5d2",
   "metadata": {},
   "outputs": [
    {
     "data": {
      "text/plain": [
       "Index(['Recency', 'Frequency', 'Monetary', 'AOV', 'Lifespan', 'CLV'], dtype='object')"
      ]
     },
     "execution_count": 241,
     "metadata": {},
     "output_type": "execute_result"
    }
   ],
   "source": [
    "# rfm.columns\n",
    "rfm_expanded.columns"
   ]
  },
  {
   "cell_type": "markdown",
   "id": "ef17c731",
   "metadata": {},
   "source": [
    "Convert the scaled arrays to dataframes then save to .csv"
   ]
  },
  {
   "cell_type": "code",
   "execution_count": 243,
   "id": "69b0a3f5",
   "metadata": {},
   "outputs": [],
   "source": [
    "# export expanded rfm df\n",
    "rfm_expanded.to_csv('../Data/rfm_expanded.csv', index = True)\n",
    "\n",
    "# Convert Model 1 transformes/scaled arrays to DF\n",
    "rfm_scaled_df = pd.DataFrame(rfm_scaled, columns=list(rfm.columns), index=rfm.index)\n",
    "\n",
    "# Export Model 1  data\n",
    "rfm_scaled_df.to_csv('../Data/rfm_scaled_df.csv', index = True)\n",
    "\n",
    "# Convert Model 2 arrays to DF\n",
    "rfm_expanded_scaled_df = pd.DataFrame(rfm_expanded_scaled, columns=list(rfm_expanded.columns), index=rfm_expanded.index)\n",
    "\n",
    "# Export Model 2 train/test data\n",
    "rfm_expanded_scaled_df.to_csv('../Data/rfm_expanded_scaled_df.csv', index = True)\n"
   ]
  },
  {
   "cell_type": "code",
   "execution_count": 244,
   "id": "5aef24ab",
   "metadata": {},
   "outputs": [],
   "source": [
    "# rfm_scaled_df\n",
    "\n",
    "# rfm_expanded_scaled_df"
   ]
  },
  {
   "cell_type": "markdown",
   "id": "2fe69e0b",
   "metadata": {},
   "source": [
    "## Conclusion\n",
    "In this notebook the 'rfm' dataframe was expanded to create 'rfm_expanded' to include additional features Average Order Value ('AOV'), Customer Lifespan ('Lifespan'), and Customer Lifesman Value ('CLV').  Both the 'rfm' and 'rfm_expanded' dataframes were transformed to correct for skewness and scaled to account for different magnitudes in the data in preparation for Modeling in the next notebook."
   ]
  }
 ],
 "metadata": {
  "kernelspec": {
   "display_name": "Python [conda env:base] *",
   "language": "python",
   "name": "conda-base-py"
  },
  "language_info": {
   "codemirror_mode": {
    "name": "ipython",
    "version": 3
   },
   "file_extension": ".py",
   "mimetype": "text/x-python",
   "name": "python",
   "nbconvert_exporter": "python",
   "pygments_lexer": "ipython3",
   "version": "3.11.5"
  }
 },
 "nbformat": 4,
 "nbformat_minor": 5
}
