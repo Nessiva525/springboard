{
 "cells": [
  {
   "cell_type": "markdown",
   "id": "4f3e59de-2f28-4d48-b98b-a95288aef6be",
   "metadata": {},
   "source": [
    "# Capstone 2 -- Post-Segmentation EDA"
   ]
  },
  {
   "cell_type": "markdown",
   "id": "a23acccb-7368-410d-891f-c2b0b4816cfa",
   "metadata": {},
   "source": [
    "## Introduction"
   ]
  },
  {
   "cell_type": "markdown",
   "id": "cfa3c1bc-61b9-494c-8f20-1caa54d76093",
   "metadata": {},
   "source": [
    "This is notebook is notebook 5 of Springboard Capstone 2 covering post segmentation EDA. The previous notebooks covered 1. Data Wrangling, 2. EDA, 3. Preprocessing and Training Development, and 4. Modeling and Model Evaluation.\n",
    "\n",
    "**The Data**<br>\n",
    "The Data is derived from the Online Retail II dataset from the UCI machine learning repository. The original dataset was a collection of all online transations from a UK based retail company from 01/12/2009 to 09/12/2011.\n",
    "\n",
    "The data was was cleaned to remove all cancelled orders, any duplicates and other miscelaneous items that needed cleaning. The data was then split into two dataframes, one with known customers and one with unknown customers. The unknown customer data was set aside and the known customer data was grouped by customer and transformed into a Recency, Frequency, Monetary (rfm) dataset.\n",
    "\n",
    "Using basic rfm and rfm with additional features, the previous notebooks compared 2 KMeans models to get the best customer segments. The basic rfm data from Model 1 using k=2 was found to be the best segmentation combination.  However k=2 doen not provide much value for marketing purposes.  The next best option was Model 1 using k=4.  Both labels were saved for future comparison but k=4 will be the focus here.\n",
    "\n",
    "**The Goal**<br>\n",
    "The goal with this notebook is to re-explore the original data with the addition of the segment labels."
   ]
  },
  {
   "cell_type": "markdown",
   "id": "f497de20-8b5d-4187-9f8f-7e9d69ef8793",
   "metadata": {},
   "source": [
    "## Imports and Default Settings"
   ]
  },
  {
   "cell_type": "markdown",
   "id": "a5ae157b-2eb6-4651-9326-832a79bacf86",
   "metadata": {
    "jp-MarkdownHeadingCollapsed": true
   },
   "source": [
    "#### Import Packages"
   ]
  },
  {
   "cell_type": "code",
   "execution_count": 6,
   "id": "16b11927-262a-443c-aba6-65b3f8adfb0c",
   "metadata": {},
   "outputs": [],
   "source": [
    "import pandas as pd\n",
    "import numpy as np\n",
    "import matplotlib.pyplot as plt\n",
    "import seaborn as sns\n",
    "# import warnings"
   ]
  },
  {
   "cell_type": "markdown",
   "id": "72a7cd94-12cf-4d3c-8b2f-92cc4c7fb552",
   "metadata": {},
   "source": [
    "#### Set Default Preferences"
   ]
  },
  {
   "cell_type": "code",
   "execution_count": 8,
   "id": "ac563601-aa41-4c32-ab35-91bd32d7e227",
   "metadata": {},
   "outputs": [],
   "source": [
    "# display all columns\n",
    "pd.set_option('display.max_columns', None)\n",
    "\n",
    "# surpress scientific notation\n",
    "pd.options.display.float_format = '{:}'.format\n",
    "\n",
    "# Suppress FutureWarning messages\n",
    "# warnings.simplefilter(action='ignore', category=FutureWarning)"
   ]
  },
  {
   "cell_type": "markdown",
   "id": "cefd8905-9b7f-42d0-82b2-cfb40b53ccf2",
   "metadata": {},
   "source": [
    "#### Import Data"
   ]
  },
  {
   "cell_type": "markdown",
   "id": "ed3d66cf-5897-447c-b96e-7d4e8f9b22b9",
   "metadata": {},
   "source": [
    "##### About the Imported Data"
   ]
  },
  {
   "cell_type": "markdown",
   "id": "8417dcfd-b828-4fdc-94c0-fd80dcfb61a5",
   "metadata": {},
   "source": [
    "We will import 3 datasets. \n",
    "\n",
    "The data to be imported: \n",
    "* 'has_id.csv':\n",
    "    * Data from the original Online Retail II dataset limited to entries that have a value in the 'Customer ID' comlum\n",
    "* 'rfm_expanded.csv':\n",
    "    * RFM calculations from original dataset after grouping data by 'Customer ID' plus Average Order Value (AOV), Lifetime, and Customer Lifetime Value (CLV) calculations.  Though the expanded features weren't helpful for segmentation they could still provide useful information about the customers in each segment. \n",
    "* 'labeled_rfm_scaled.csv':\n",
    "    * This is the scaled data used in the model with the addition of the cluster labels for k=2 and k=4. Saved with 'Customer ID' as the index."
   ]
  },
  {
   "cell_type": "markdown",
   "id": "01813c39-30b6-449a-8925-0799f528b2a2",
   "metadata": {},
   "source": [
    "##### Import 'has_id'"
   ]
  },
  {
   "cell_type": "code",
   "execution_count": 13,
   "id": "43164485-1ac5-4701-87a3-c6095cfe783c",
   "metadata": {},
   "outputs": [],
   "source": [
    "## Basic import to check dtypes\n",
    "\n",
    "# has_id = pd.read_csv('../Data/has_id.csv')\n",
    "# has_id.info()\n",
    "# has_id.YearMonth.head()"
   ]
  },
  {
   "cell_type": "code",
   "execution_count": 14,
   "id": "134d77ab-baa8-4ed3-974a-bf58378e2b4d",
   "metadata": {},
   "outputs": [
    {
     "name": "stdout",
     "output_type": "stream",
     "text": [
      "<class 'pandas.core.frame.DataFrame'>\n",
      "RangeIndex: 779425 entries, 0 to 779424\n",
      "Data columns (total 10 columns):\n",
      " #   Column       Non-Null Count   Dtype         \n",
      "---  ------       --------------   -----         \n",
      " 0   Invoice      779425 non-null  string        \n",
      " 1   StockCode    779425 non-null  string        \n",
      " 2   Description  779425 non-null  string        \n",
      " 3   Quantity     779425 non-null  int64         \n",
      " 4   InvoiceDate  779425 non-null  datetime64[ns]\n",
      " 5   Price        779425 non-null  float64       \n",
      " 6   Customer ID  779425 non-null  string        \n",
      " 7   Country      779425 non-null  category      \n",
      " 8   Sales        779425 non-null  float64       \n",
      " 9   YearMonth    779425 non-null  period[M]     \n",
      "dtypes: category(1), datetime64[ns](1), float64(2), int64(1), period[M](1), string(4)\n",
      "memory usage: 54.3 MB\n"
     ]
    }
   ],
   "source": [
    "## import with correct data types\n",
    "\n",
    "# Set dtypes\n",
    "dtype_dict={'Invoice':'string', \n",
    "            'StockCode':'string',\n",
    "            'Description':'string',\n",
    "            'Quantity':'int64',\n",
    "            'Price':'float64',\n",
    "            'Customer ID':'string',\n",
    "            'Country':'category',\n",
    "            'Sales':'float64'}\n",
    "# import\n",
    "has_id = pd.read_csv('../Data/has_id.csv', dtype = dtype_dict, parse_dates = ['InvoiceDate'])\n",
    "\n",
    "# correct YearMonth to monthly period\n",
    "has_id['YearMonth'] = pd.PeriodIndex(has_id['YearMonth'], freq='M')\n",
    "\n",
    "has_id.info()"
   ]
  },
  {
   "cell_type": "markdown",
   "id": "a05ef402-b583-41e4-9785-72671d72b0bc",
   "metadata": {},
   "source": [
    "##### Import 'rfm_extended'"
   ]
  },
  {
   "cell_type": "code",
   "execution_count": 16,
   "id": "e0385d2e-4c8f-4e49-930b-7b28e60460d4",
   "metadata": {},
   "outputs": [
    {
     "name": "stdout",
     "output_type": "stream",
     "text": [
      "<class 'pandas.core.frame.DataFrame'>\n",
      "RangeIndex: 5878 entries, 0 to 5877\n",
      "Data columns (total 7 columns):\n",
      " #   Column       Non-Null Count  Dtype  \n",
      "---  ------       --------------  -----  \n",
      " 0   Customer ID  5878 non-null   string \n",
      " 1   Recency      5878 non-null   int64  \n",
      " 2   Frequency    5878 non-null   int64  \n",
      " 3   Monetary     5878 non-null   float64\n",
      " 4   AOV          5878 non-null   float64\n",
      " 5   Lifespan     5878 non-null   int64  \n",
      " 6   CLV          5878 non-null   float64\n",
      "dtypes: float64(3), int64(3), string(1)\n",
      "memory usage: 321.6 KB\n"
     ]
    }
   ],
   "source": [
    "## import to check dtypes then correct dtypes\n",
    "# rfm_expanded = pd.read_csv('../Data/rfm_expanded.csv')\n",
    "rfm_expanded = pd.read_csv('../Data/rfm_expanded.csv', dtype={'Customer ID':'string'})\n",
    "rfm_expanded.info()"
   ]
  },
  {
   "cell_type": "markdown",
   "id": "0f51c7b4-b44e-44ce-afd9-8f66f31bea92",
   "metadata": {},
   "source": [
    "##### Import 'labeled_rfm_scaled'"
   ]
  },
  {
   "cell_type": "code",
   "execution_count": 18,
   "id": "5e88a46a-7003-41f2-bd74-dc717739ff64",
   "metadata": {},
   "outputs": [
    {
     "name": "stdout",
     "output_type": "stream",
     "text": [
      "<class 'pandas.core.frame.DataFrame'>\n",
      "RangeIndex: 5878 entries, 0 to 5877\n",
      "Data columns (total 6 columns):\n",
      " #   Column       Non-Null Count  Dtype  \n",
      "---  ------       --------------  -----  \n",
      " 0   Customer ID  5878 non-null   string \n",
      " 1   Recency      5878 non-null   float64\n",
      " 2   Frequency    5878 non-null   float64\n",
      " 3   Monetary     5878 non-null   float64\n",
      " 4   k2_cluster   5878 non-null   int64  \n",
      " 5   k4_cluster   5878 non-null   int64  \n",
      "dtypes: float64(3), int64(2), string(1)\n",
      "memory usage: 275.7 KB\n"
     ]
    }
   ],
   "source": [
    "## import to check dtypes then correct dtypes\n",
    "# labeled_rfm_scaled = pd.read_csv('../Data/labeled_rfm_scaled.csv')\n",
    "labeled_rfm_scaled = pd.read_csv('../Data/labeled_rfm_scaled.csv', dtype={'Customer ID':'string'})\n",
    "\n",
    "labeled_rfm_scaled.info()"
   ]
  },
  {
   "cell_type": "markdown",
   "id": "3d4cf451-cb37-4fd7-89ba-144a22e5b613",
   "metadata": {},
   "source": [
    "#### Add Cluster Labels to Datasets\n"
   ]
  },
  {
   "cell_type": "markdown",
   "id": "5ca51652-b2c2-4db5-889d-d986ed5e0dd0",
   "metadata": {},
   "source": [
    "##### About"
   ]
  },
  {
   "cell_type": "markdown",
   "id": "0c67ec96-fcda-41ed-be36-ce011d858435",
   "metadata": {},
   "source": [
    "The cluster labels in 'labeled_rfm_scaled' need to be added to the other two datasets before post-segmentation EDA.  All data from 'has_id' and 'rfm_expanded' will stay with columns 'k2_cluster' and 'k4_cluster' being added from 'labeled_rfm_scaled'.  'rfm_expanded' is grouped by 'Customer ID' wile 'has_id' has all transactions so they will not be combined.\n",
    "\n",
    "**NOTE**: The clusters represent the clusters identifiedby a K-Means model using only RFM data.  So even though the rfm_expanded dataset it being used in EDA, the clusters only represent RFM based clusters not the clusters found in the model that used the rfm_expanded data."
   ]
  },
  {
   "cell_type": "markdown",
   "id": "69acc9da-4a78-4591-9292-8808630f7c96",
   "metadata": {},
   "source": [
    "##### Add Labels\n",
    "\n"
   ]
  },
  {
   "cell_type": "code",
   "execution_count": 23,
   "id": "45fd1ee6-a26a-42df-aef1-df214486d47b",
   "metadata": {},
   "outputs": [
    {
     "data": {
      "text/html": [
       "<div>\n",
       "<style scoped>\n",
       "    .dataframe tbody tr th:only-of-type {\n",
       "        vertical-align: middle;\n",
       "    }\n",
       "\n",
       "    .dataframe tbody tr th {\n",
       "        vertical-align: top;\n",
       "    }\n",
       "\n",
       "    .dataframe thead th {\n",
       "        text-align: right;\n",
       "    }\n",
       "</style>\n",
       "<table border=\"1\" class=\"dataframe\">\n",
       "  <thead>\n",
       "    <tr style=\"text-align: right;\">\n",
       "      <th></th>\n",
       "      <th>Invoice</th>\n",
       "      <th>StockCode</th>\n",
       "      <th>Description</th>\n",
       "      <th>Quantity</th>\n",
       "      <th>InvoiceDate</th>\n",
       "      <th>Price</th>\n",
       "      <th>Customer ID</th>\n",
       "      <th>Country</th>\n",
       "      <th>Sales</th>\n",
       "      <th>YearMonth</th>\n",
       "      <th>k2_cluster</th>\n",
       "      <th>k4_cluster</th>\n",
       "    </tr>\n",
       "  </thead>\n",
       "  <tbody>\n",
       "    <tr>\n",
       "      <th>0</th>\n",
       "      <td>489434</td>\n",
       "      <td>85048</td>\n",
       "      <td>15CM CHRISTMAS GLASS BALL 20 LIGHTS</td>\n",
       "      <td>12</td>\n",
       "      <td>2009-12-01 07:45:00</td>\n",
       "      <td>6.95</td>\n",
       "      <td>13085.0</td>\n",
       "      <td>United Kingdom</td>\n",
       "      <td>83.4</td>\n",
       "      <td>2009-12</td>\n",
       "      <td>1</td>\n",
       "      <td>2</td>\n",
       "    </tr>\n",
       "    <tr>\n",
       "      <th>1</th>\n",
       "      <td>489434</td>\n",
       "      <td>79323P</td>\n",
       "      <td>PINK CHERRY LIGHTS</td>\n",
       "      <td>12</td>\n",
       "      <td>2009-12-01 07:45:00</td>\n",
       "      <td>6.75</td>\n",
       "      <td>13085.0</td>\n",
       "      <td>United Kingdom</td>\n",
       "      <td>81.0</td>\n",
       "      <td>2009-12</td>\n",
       "      <td>1</td>\n",
       "      <td>2</td>\n",
       "    </tr>\n",
       "    <tr>\n",
       "      <th>2</th>\n",
       "      <td>489434</td>\n",
       "      <td>79323W</td>\n",
       "      <td>WHITE CHERRY LIGHTS</td>\n",
       "      <td>12</td>\n",
       "      <td>2009-12-01 07:45:00</td>\n",
       "      <td>6.75</td>\n",
       "      <td>13085.0</td>\n",
       "      <td>United Kingdom</td>\n",
       "      <td>81.0</td>\n",
       "      <td>2009-12</td>\n",
       "      <td>1</td>\n",
       "      <td>2</td>\n",
       "    </tr>\n",
       "    <tr>\n",
       "      <th>3</th>\n",
       "      <td>489434</td>\n",
       "      <td>22041</td>\n",
       "      <td>RECORD FRAME 7\" SINGLE SIZE</td>\n",
       "      <td>48</td>\n",
       "      <td>2009-12-01 07:45:00</td>\n",
       "      <td>2.1</td>\n",
       "      <td>13085.0</td>\n",
       "      <td>United Kingdom</td>\n",
       "      <td>100.8</td>\n",
       "      <td>2009-12</td>\n",
       "      <td>1</td>\n",
       "      <td>2</td>\n",
       "    </tr>\n",
       "    <tr>\n",
       "      <th>4</th>\n",
       "      <td>489434</td>\n",
       "      <td>21232</td>\n",
       "      <td>STRAWBERRY CERAMIC TRINKET BOX</td>\n",
       "      <td>24</td>\n",
       "      <td>2009-12-01 07:45:00</td>\n",
       "      <td>1.25</td>\n",
       "      <td>13085.0</td>\n",
       "      <td>United Kingdom</td>\n",
       "      <td>30.0</td>\n",
       "      <td>2009-12</td>\n",
       "      <td>1</td>\n",
       "      <td>2</td>\n",
       "    </tr>\n",
       "  </tbody>\n",
       "</table>\n",
       "</div>"
      ],
      "text/plain": [
       "  Invoice StockCode                          Description  Quantity  \\\n",
       "0  489434     85048  15CM CHRISTMAS GLASS BALL 20 LIGHTS        12   \n",
       "1  489434    79323P                   PINK CHERRY LIGHTS        12   \n",
       "2  489434    79323W                  WHITE CHERRY LIGHTS        12   \n",
       "3  489434     22041         RECORD FRAME 7\" SINGLE SIZE         48   \n",
       "4  489434     21232       STRAWBERRY CERAMIC TRINKET BOX        24   \n",
       "\n",
       "          InvoiceDate  Price Customer ID         Country  Sales YearMonth  \\\n",
       "0 2009-12-01 07:45:00   6.95     13085.0  United Kingdom   83.4   2009-12   \n",
       "1 2009-12-01 07:45:00   6.75     13085.0  United Kingdom   81.0   2009-12   \n",
       "2 2009-12-01 07:45:00   6.75     13085.0  United Kingdom   81.0   2009-12   \n",
       "3 2009-12-01 07:45:00    2.1     13085.0  United Kingdom  100.8   2009-12   \n",
       "4 2009-12-01 07:45:00   1.25     13085.0  United Kingdom   30.0   2009-12   \n",
       "\n",
       "   k2_cluster  k4_cluster  \n",
       "0           1           2  \n",
       "1           1           2  \n",
       "2           1           2  \n",
       "3           1           2  \n",
       "4           1           2  "
      ]
     },
     "execution_count": 23,
     "metadata": {},
     "output_type": "execute_result"
    }
   ],
   "source": [
    "## has_id\n",
    "\n",
    "labeled_has_id = has_id.merge(labeled_rfm_scaled[['Customer ID', 'k2_cluster', 'k4_cluster']], on='Customer ID', how='left')\n",
    "# has_id_labeled.info()\n",
    "labeled_has_id.head()"
   ]
  },
  {
   "cell_type": "code",
   "execution_count": 24,
   "id": "908835e5-ba4f-4441-9963-8a6e47b4e41d",
   "metadata": {},
   "outputs": [
    {
     "data": {
      "text/html": [
       "<div>\n",
       "<style scoped>\n",
       "    .dataframe tbody tr th:only-of-type {\n",
       "        vertical-align: middle;\n",
       "    }\n",
       "\n",
       "    .dataframe tbody tr th {\n",
       "        vertical-align: top;\n",
       "    }\n",
       "\n",
       "    .dataframe thead th {\n",
       "        text-align: right;\n",
       "    }\n",
       "</style>\n",
       "<table border=\"1\" class=\"dataframe\">\n",
       "  <thead>\n",
       "    <tr style=\"text-align: right;\">\n",
       "      <th></th>\n",
       "      <th>Customer ID</th>\n",
       "      <th>Recency</th>\n",
       "      <th>Frequency</th>\n",
       "      <th>Monetary</th>\n",
       "      <th>AOV</th>\n",
       "      <th>Lifespan</th>\n",
       "      <th>CLV</th>\n",
       "      <th>k2_cluster</th>\n",
       "      <th>k4_cluster</th>\n",
       "    </tr>\n",
       "  </thead>\n",
       "  <tbody>\n",
       "    <tr>\n",
       "      <th>0</th>\n",
       "      <td>12346.0</td>\n",
       "      <td>326</td>\n",
       "      <td>12</td>\n",
       "      <td>77556.46</td>\n",
       "      <td>6463.038411458333</td>\n",
       "      <td>582</td>\n",
       "      <td>45137860.265625</td>\n",
       "      <td>1</td>\n",
       "      <td>0</td>\n",
       "    </tr>\n",
       "    <tr>\n",
       "      <th>1</th>\n",
       "      <td>12347.0</td>\n",
       "      <td>2</td>\n",
       "      <td>8</td>\n",
       "      <td>4921.53</td>\n",
       "      <td>615.1912231445312</td>\n",
       "      <td>582</td>\n",
       "      <td>2864330.3349609375</td>\n",
       "      <td>1</td>\n",
       "      <td>0</td>\n",
       "    </tr>\n",
       "    <tr>\n",
       "      <th>2</th>\n",
       "      <td>12348.0</td>\n",
       "      <td>75</td>\n",
       "      <td>5</td>\n",
       "      <td>2019.4</td>\n",
       "      <td>403.8800048828125</td>\n",
       "      <td>582</td>\n",
       "      <td>1175290.8142089844</td>\n",
       "      <td>1</td>\n",
       "      <td>2</td>\n",
       "    </tr>\n",
       "    <tr>\n",
       "      <th>3</th>\n",
       "      <td>12349.0</td>\n",
       "      <td>19</td>\n",
       "      <td>4</td>\n",
       "      <td>4428.69</td>\n",
       "      <td>1107.1724853515625</td>\n",
       "      <td>582</td>\n",
       "      <td>2577497.5458984375</td>\n",
       "      <td>1</td>\n",
       "      <td>0</td>\n",
       "    </tr>\n",
       "    <tr>\n",
       "      <th>4</th>\n",
       "      <td>12350.0</td>\n",
       "      <td>310</td>\n",
       "      <td>1</td>\n",
       "      <td>334.4</td>\n",
       "      <td>334.3999938964844</td>\n",
       "      <td>582</td>\n",
       "      <td>194620.7964477539</td>\n",
       "      <td>0</td>\n",
       "      <td>1</td>\n",
       "    </tr>\n",
       "  </tbody>\n",
       "</table>\n",
       "</div>"
      ],
      "text/plain": [
       "  Customer ID  Recency  Frequency  Monetary                AOV  Lifespan  \\\n",
       "0     12346.0      326         12  77556.46  6463.038411458333       582   \n",
       "1     12347.0        2          8   4921.53  615.1912231445312       582   \n",
       "2     12348.0       75          5    2019.4  403.8800048828125       582   \n",
       "3     12349.0       19          4   4428.69 1107.1724853515625       582   \n",
       "4     12350.0      310          1     334.4  334.3999938964844       582   \n",
       "\n",
       "                 CLV  k2_cluster  k4_cluster  \n",
       "0    45137860.265625           1           0  \n",
       "1 2864330.3349609375           1           0  \n",
       "2 1175290.8142089844           1           2  \n",
       "3 2577497.5458984375           1           0  \n",
       "4  194620.7964477539           0           1  "
      ]
     },
     "execution_count": 24,
     "metadata": {},
     "output_type": "execute_result"
    }
   ],
   "source": [
    "## rfm_expanded\n",
    "\n",
    "labeled_rfm_expanded = rfm_expanded.merge(labeled_rfm_scaled[['Customer ID', 'k2_cluster', 'k4_cluster']], on='Customer ID', how='left')\n",
    "# labeled_rfm_expanded.info()\n",
    "labeled_rfm_expanded.head()"
   ]
  },
  {
   "cell_type": "markdown",
   "id": "bc29ebfc-356e-45a8-aa16-2f4fd99695cf",
   "metadata": {},
   "source": [
    "## Explore"
   ]
  },
  {
   "cell_type": "markdown",
   "id": "bdd91a03-d178-4aab-932c-cf41e341e6c2",
   "metadata": {},
   "source": [
    "This post-sgementation Eda will focus on finding the characteristics of each Cluster and differences between the clusters with a focus on marketing benefits."
   ]
  },
  {
   "cell_type": "markdown",
   "id": "7bd0b19e-394b-4cb4-95dc-9f6d7a722752",
   "metadata": {},
   "source": [
    "with out What questions do I want to answer?\n",
    "* Characteristics of each segment:\n",
    "    * frequency\n",
    "    * amount\n",
    "    * top products\n",
    "    * average order\n",
    "    * seasonality of sales\n",
    "* differences between segments:\n",
    "    * who spend the most\n",
    "    * who buys most often\n",
    "    * "
   ]
  },
  {
   "cell_type": "markdown",
   "id": "4584fc8c-862e-484c-8da4-0ef152f7b55f",
   "metadata": {},
   "source": [
    "Sales, Frequency, AOV, CLV, Recency, Country, Description, \n",
    "\n",
    "retension rate -- recency and frequency by cluster\n",
    "\n",
    "identify whole sale customers? -- highest average Quantity by cluster\n",
    "\n",
    "identify high value purchases -- aov and clv by cluster\n",
    "\n",
    "repeat vs first time buyers -- frequency by cluster"
   ]
  },
  {
   "cell_type": "code",
   "execution_count": 29,
   "id": "3ee76097-0c36-4fec-b510-cf7fce3be235",
   "metadata": {},
   "outputs": [
    {
     "data": {
      "text/plain": [
       "Index(['Invoice', 'StockCode', 'Description', 'Quantity', 'InvoiceDate',\n",
       "       'Price', 'Customer ID', 'Country', 'Sales', 'YearMonth', 'k2_cluster',\n",
       "       'k4_cluster'],\n",
       "      dtype='object')"
      ]
     },
     "execution_count": 29,
     "metadata": {},
     "output_type": "execute_result"
    }
   ],
   "source": [
    "labeled_has_id.columns"
   ]
  },
  {
   "cell_type": "markdown",
   "id": "91b1f5c7-585d-40a3-965a-9bce520ce88d",
   "metadata": {},
   "source": [
    "#### Characteristics"
   ]
  },
  {
   "cell_type": "markdown",
   "id": "f24e7e0d-f054-4a44-9f91-9900b274dda2",
   "metadata": {},
   "source": [
    "##### Transaction Frequency"
   ]
  },
  {
   "cell_type": "markdown",
   "id": "1a49f60b-d41a-4a9e-b780-cfa539444de2",
   "metadata": {},
   "source": [
    "Transaction count and average"
   ]
  },
  {
   "cell_type": "code",
   "execution_count": 206,
   "id": "b49571bb-ce84-48c2-b659-ebce389b8b1a",
   "metadata": {},
   "outputs": [
    {
     "data": {
      "image/png": "[encoded data removed]",
      "text/plain": [
       "<Figure size 500x300 with 1 Axes>"
      ]
     },
     "metadata": {},
     "output_type": "display_data"
    },
    {
     "data": {
      "image/png": "[encoded data removed]",
      "text/plain": [
       "<Figure size 500x200 with 1 Axes>"
      ]
     },
     "metadata": {},
     "output_type": "display_data"
    },
    {
     "data": {
      "image/png": "[encoded data removed]",
      "text/plain": [
       "<Figure size 500x200 with 1 Axes>"
      ]
     },
     "metadata": {},
     "output_type": "display_data"
    }
   ],
   "source": [
    "import matplotlib.pyplot as plt\n",
    "\n",
    "# Plot Customers Count\n",
    "plt.figure(figsize=(5, 3))\n",
    "plt.bar(count_summary_table[\"Cluster\"], count_summary_table[\"Customers Count\"], label=\"Customers Count\", alpha=0.7)\n",
    "plt.xlabel(\"Cluster\")\n",
    "plt.ylabel(\"Count\")\n",
    "plt.title(\"Customers Count per Cluster\")\n",
    "plt.legend()\n",
    "plt.show()\n",
    "\n",
    "# Plot Total Transactions\n",
    "plt.figure(figsize=(5,2))\n",
    "plt.bar(count_summary_table[\"Cluster\"], count_summary_table[\"Total Transactions\"], label=\"Total Transactions\", color='orange', alpha=0.7)\n",
    "plt.xlabel(\"Cluster\")\n",
    "plt.ylabel(\"Count\")\n",
    "plt.title(\"Total Transactions per Cluster\")\n",
    "plt.legend()\n",
    "plt.show()\n",
    "\n",
    "# Plot Average Transaction\n",
    "plt.figure(figsize=(5,2))\n",
    "plt.bar(count_summary_table[\"Cluster\"], count_summary_table[\"Average Transactions\"], label=\"Average Transactions\", color='green', alpha=0.7)\n",
    "plt.xlabel(\"Cluster\")\n",
    "plt.ylabel(\"Average Transactions\")\n",
    "plt.title(\"Average Transactions per Cluster\")\n",
    "plt.legend()\n",
    "plt.show()\n"
   ]
  },
  {
   "cell_type": "code",
   "execution_count": 117,
   "id": "76dadfe0-26b8-4203-a644-1a0f424c3ef2",
   "metadata": {},
   "outputs": [],
   "source": [
    "#### K=2 Transactions \n",
    "\n",
    "# # Print number of Customers\n",
    "# print('Customers Count by Cluster')\n",
    "# for cluster in range(0,2):\n",
    "#     print(f'Cluster {cluster}: {len(labeled_rfm_expanded[labeled_rfm_expanded.k2_cluster == cluster])}')\n",
    "\n",
    "# print('---')\n",
    "\n",
    "# # Print number of Transactions\n",
    "# print('Total Transaction Count by Cluster')\n",
    "# for cluster in range(0,2):\n",
    "#     print(f'Cluster {cluster}: {len(labeled_has_id[labeled_has_id.k2_cluster == cluster])}')\n",
    "\n",
    "# print('---')\n",
    "\n",
    "# # Print average transactions per customer\n",
    "# print('Agerage Transaction Count by Cluster')\n",
    "# for cluster in range(0,2):\n",
    "#     print(f'Cluster {cluster}: {round((len(labeled_has_id[labeled_has_id.k2_cluster == cluster])/len(labeled_rfm_expanded[labeled_rfm_expanded.k4_cluster == cluster])),2)}')"
   ]
  },
  {
   "cell_type": "code",
   "execution_count": 163,
   "id": "2a0e4a26-4dbe-4fcb-a540-944298b68362",
   "metadata": {},
   "outputs": [
    {
     "name": "stdout",
     "output_type": "stream",
     "text": [
      "Frequency\n"
     ]
    },
    {
     "data": {
      "text/html": [
       "<div>\n",
       "<style scoped>\n",
       "    .dataframe tbody tr th:only-of-type {\n",
       "        vertical-align: middle;\n",
       "    }\n",
       "\n",
       "    .dataframe tbody tr th {\n",
       "        vertical-align: top;\n",
       "    }\n",
       "\n",
       "    .dataframe thead th {\n",
       "        text-align: right;\n",
       "    }\n",
       "</style>\n",
       "<table border=\"1\" class=\"dataframe\">\n",
       "  <thead>\n",
       "    <tr style=\"text-align: right;\">\n",
       "      <th></th>\n",
       "      <th>Cluster 0</th>\n",
       "      <th>Cluster 1</th>\n",
       "      <th>Cluster 2</th>\n",
       "      <th>Cluster 3</th>\n",
       "    </tr>\n",
       "  </thead>\n",
       "  <tbody>\n",
       "    <tr>\n",
       "      <th>count</th>\n",
       "      <td>1640.0</td>\n",
       "      <td>1634.0</td>\n",
       "      <td>1372.0</td>\n",
       "      <td>1232.0</td>\n",
       "    </tr>\n",
       "    <tr>\n",
       "      <th>mean</th>\n",
       "      <td>15.78</td>\n",
       "      <td>1.23</td>\n",
       "      <td>4.49</td>\n",
       "      <td>2.37</td>\n",
       "    </tr>\n",
       "    <tr>\n",
       "      <th>std</th>\n",
       "      <td>21.68</td>\n",
       "      <td>0.45</td>\n",
       "      <td>2.65</td>\n",
       "      <td>1.17</td>\n",
       "    </tr>\n",
       "    <tr>\n",
       "      <th>min</th>\n",
       "      <td>2.0</td>\n",
       "      <td>1.0</td>\n",
       "      <td>1.0</td>\n",
       "      <td>1.0</td>\n",
       "    </tr>\n",
       "    <tr>\n",
       "      <th>25%</th>\n",
       "      <td>7.0</td>\n",
       "      <td>1.0</td>\n",
       "      <td>3.0</td>\n",
       "      <td>1.0</td>\n",
       "    </tr>\n",
       "    <tr>\n",
       "      <th>50%</th>\n",
       "      <td>11.0</td>\n",
       "      <td>1.0</td>\n",
       "      <td>4.0</td>\n",
       "      <td>2.0</td>\n",
       "    </tr>\n",
       "    <tr>\n",
       "      <th>75%</th>\n",
       "      <td>17.0</td>\n",
       "      <td>1.0</td>\n",
       "      <td>5.0</td>\n",
       "      <td>3.0</td>\n",
       "    </tr>\n",
       "    <tr>\n",
       "      <th>max</th>\n",
       "      <td>398.0</td>\n",
       "      <td>4.0</td>\n",
       "      <td>41.0</td>\n",
       "      <td>7.0</td>\n",
       "    </tr>\n",
       "  </tbody>\n",
       "</table>\n",
       "</div>"
      ],
      "text/plain": [
       "       Cluster 0  Cluster 1  Cluster 2  Cluster 3\n",
       "count     1640.0     1634.0     1372.0     1232.0\n",
       "mean       15.78       1.23       4.49       2.37\n",
       "std        21.68       0.45       2.65       1.17\n",
       "min          2.0        1.0        1.0        1.0\n",
       "25%          7.0        1.0        3.0        1.0\n",
       "50%         11.0        1.0        4.0        2.0\n",
       "75%         17.0        1.0        5.0        3.0\n",
       "max        398.0        4.0       41.0        7.0"
      ]
     },
     "execution_count": 163,
     "metadata": {},
     "output_type": "execute_result"
    }
   ],
   "source": [
    "# # Print number of Customers\n",
    "# print('Frequency  by Cluster')\n",
    "# for cluster in range(0,4):\n",
    "#     print(f'Cluster {cluster}')\n",
    "#     print(labeled_rfm_expanded[labeled_rfm_expanded.k4_cluster == cluster].Frequency.describe().round(2))\n",
    "#     print('---')\n",
    "\n",
    "frequency_summary_table = pd.DataFrame({\n",
    "    f'Cluster {cluster}': labeled_rfm_expanded[labeled_rfm_expanded.k4_cluster == cluster]\n",
    "    .Frequency.describe().round(2)\n",
    "    for cluster in range(4)})\n",
    "\n",
    "print('Frequency')\n",
    "frequency_summary_table"
   ]
  },
  {
   "cell_type": "raw",
   "id": "0e443bea-3631-4a43-8365-85f305006c06",
   "metadata": {},
   "source": [
    "Takeaway: Total transaction by cluster range in size between about 35k to almost 560k. Clusters raked by number of transactions (high to low): \n",
    "* Cluster 0, Total Transactions: 559711, Average per customer: 341.29\n",
    "* Cluster 2, Total Transactions: 119824, Average per customer: 87.34\n",
    "* Cluster 3, Total Transactions: 64584, Average per customer: 52.42\n",
    "* Cluster 1, Total Transactions: 35306, Average per customer: 21.61"
   ]
  },
  {
   "cell_type": "code",
   "execution_count": 204,
   "id": "ebc4824a-5f3e-4dc1-9607-f6c7f3b5e5ab",
   "metadata": {},
   "outputs": [
    {
     "data": {
      "image/png": "[encoded data removed]",
      "text/plain": [
       "<Figure size 1000x600 with 1 Axes>"
      ]
     },
     "metadata": {},
     "output_type": "display_data"
    }
   ],
   "source": [
    "import seaborn as sns\n",
    "\n",
    "plt.figure(figsize=(10, 6))\n",
    "sns.boxplot(x=labeled_rfm_expanded.k4_cluster, y=labeled_rfm_expanded.Frequency)\n",
    "\n",
    "# Formatting\n",
    "plt.title(\"Frequency Distribution by Cluster\")\n",
    "plt.xlabel(\"Cluster\")\n",
    "plt.grid(axis='y', linestyle='--', alpha=0.5)\n",
    "plt.show()\n"
   ]
  },
  {
   "cell_type": "code",
   "execution_count": 196,
   "id": "06a87fd2-1a86-4462-8917-4ca6b633f87c",
   "metadata": {},
   "outputs": [
    {
     "data": {
      "image/png": "[encoded data removed]",
      "text/plain": [
       "<Figure size 1200x600 with 1 Axes>"
      ]
     },
     "metadata": {},
     "output_type": "display_data"
    }
   ],
   "source": [
    "import matplotlib.pyplot as plt\n",
    "\n",
    "# Transpose the dataframe so clusters are on the x-axis\n",
    "freq_summary_transposed = frequency_summary_table.T.drop(columns=['count', 'max'])\n",
    "\n",
    "# Plot grouped bar chart\n",
    "freq_summary_transposed.plot(kind='bar', figsize=(12, 6))\n",
    "\n",
    "# Formatting\n",
    "plt.title(\"Frequency Distribution Statistics by Cluster\")\n",
    "plt.xlabel(\"Cluster\")\n",
    "plt.ylabel(\"Value\")\n",
    "plt.legend(title=\"Statistic\", bbox_to_anchor=(1, 1))\n",
    "plt.xticks(rotation=0)\n",
    "plt.grid(axis='y', linestyle='--', alpha=0.7)\n",
    "plt.show()\n"
   ]
  },
  {
   "cell_type": "code",
   "execution_count": 212,
   "id": "2f3da5e0-c117-4d6f-b10d-7b1a3b36d8a1",
   "metadata": {},
   "outputs": [
    {
     "data": {
      "text/plain": [
       "Index(['Customer ID', 'Recency', 'Frequency', 'Monetary', 'AOV', 'Lifespan',\n",
       "       'CLV', 'k2_cluster', 'k4_cluster'],\n",
       "      dtype='object')"
      ]
     },
     "execution_count": 212,
     "metadata": {},
     "output_type": "execute_result"
    }
   ],
   "source": [
    "labeled_rfm_expanded.columns"
   ]
  },
  {
   "cell_type": "code",
   "execution_count": 230,
   "id": "bcf4c69b-c326-4a2d-a234-70e6b7154536",
   "metadata": {},
   "outputs": [
    {
     "name": "stderr",
     "output_type": "stream",
     "text": [
      "/Users/ness/anaconda3/lib/python3.11/site-packages/seaborn/axisgrid.py:118: UserWarning: The figure layout has changed to tight\n",
      "  self._figure.tight_layout(*args, **kwargs)\n"
     ]
    },
    {
     "data": {
      "image/png": "[encoded data removed]",
      "text/plain": [
       "<Figure size 1200x300 with 4 Axes>"
      ]
     },
     "metadata": {},
     "output_type": "display_data"
    }
   ],
   "source": [
    "g = sns.FacetGrid(labeled_rfm_expanded[['Recency', 'Frequency', 'Monetary','k4_cluster']], col=\"k4_cluster\", col_wrap=4, sharex=False, sharey=False)\n",
    "g.map(sns.histplot, \"Frequency\", kde=True)\n",
    "\n",
    "plt.show()"
   ]
  },
  {
   "cell_type": "code",
   "execution_count": null,
   "id": "5cb017d2-4689-4cd4-bda9-7b048964ed7b",
   "metadata": {},
   "outputs": [],
   "source": []
  },
  {
   "cell_type": "markdown",
   "id": "4daa4b11-1f5c-494b-aa71-8675ce1b9a64",
   "metadata": {},
   "source": [
    "CLV"
   ]
  },
  {
   "cell_type": "code",
   "execution_count": 167,
   "id": "9f8fdb87-fdeb-4097-9fa5-0ba4cfcd71c0",
   "metadata": {},
   "outputs": [
    {
     "name": "stdout",
     "output_type": "stream",
     "text": [
      "CLV\n"
     ]
    },
    {
     "data": {
      "text/html": [
       "<div>\n",
       "<style scoped>\n",
       "    .dataframe tbody tr th:only-of-type {\n",
       "        vertical-align: middle;\n",
       "    }\n",
       "\n",
       "    .dataframe tbody tr th {\n",
       "        vertical-align: top;\n",
       "    }\n",
       "\n",
       "    .dataframe thead th {\n",
       "        text-align: right;\n",
       "    }\n",
       "</style>\n",
       "<table border=\"1\" class=\"dataframe\">\n",
       "  <thead>\n",
       "    <tr style=\"text-align: right;\">\n",
       "      <th></th>\n",
       "      <th>Cluster 0</th>\n",
       "      <th>Cluster 1</th>\n",
       "      <th>Cluster 2</th>\n",
       "      <th>Cluster 3</th>\n",
       "    </tr>\n",
       "  </thead>\n",
       "  <tbody>\n",
       "    <tr>\n",
       "      <th>count</th>\n",
       "      <td>1640.0</td>\n",
       "      <td>1634.0</td>\n",
       "      <td>1372.0</td>\n",
       "      <td>1232.0</td>\n",
       "    </tr>\n",
       "    <tr>\n",
       "      <th>mean</th>\n",
       "      <td>5194787.08</td>\n",
       "      <td>174313.98</td>\n",
       "      <td>995138.95</td>\n",
       "      <td>401521.27</td>\n",
       "    </tr>\n",
       "    <tr>\n",
       "      <th>std</th>\n",
       "      <td>16104415.06</td>\n",
       "      <td>157313.58</td>\n",
       "      <td>1580675.08</td>\n",
       "      <td>319946.44</td>\n",
       "    </tr>\n",
       "    <tr>\n",
       "      <th>min</th>\n",
       "      <td>687.72</td>\n",
       "      <td>12.75</td>\n",
       "      <td>269.09</td>\n",
       "      <td>77.5</td>\n",
       "    </tr>\n",
       "    <tr>\n",
       "      <th>25%</th>\n",
       "      <td>1235863.97</td>\n",
       "      <td>72578.7</td>\n",
       "      <td>406439.63</td>\n",
       "      <td>180850.69</td>\n",
       "    </tr>\n",
       "    <tr>\n",
       "      <th>50%</th>\n",
       "      <td>2226886.18</td>\n",
       "      <td>136506.23</td>\n",
       "      <td>692058.12</td>\n",
       "      <td>328335.83</td>\n",
       "    </tr>\n",
       "    <tr>\n",
       "      <th>75%</th>\n",
       "      <td>4372185.9</td>\n",
       "      <td>234143.65</td>\n",
       "      <td>1133411.33</td>\n",
       "      <td>546664.25</td>\n",
       "    </tr>\n",
       "    <tr>\n",
       "      <th>max</th>\n",
       "      <td>336391509.19</td>\n",
       "      <td>1535395.71</td>\n",
       "      <td>29019295.5</td>\n",
       "      <td>3222683.48</td>\n",
       "    </tr>\n",
       "  </tbody>\n",
       "</table>\n",
       "</div>"
      ],
      "text/plain": [
       "         Cluster 0  Cluster 1  Cluster 2  Cluster 3\n",
       "count       1640.0     1634.0     1372.0     1232.0\n",
       "mean    5194787.08  174313.98  995138.95  401521.27\n",
       "std    16104415.06  157313.58 1580675.08  319946.44\n",
       "min         687.72      12.75     269.09       77.5\n",
       "25%     1235863.97    72578.7  406439.63  180850.69\n",
       "50%     2226886.18  136506.23  692058.12  328335.83\n",
       "75%      4372185.9  234143.65 1133411.33  546664.25\n",
       "max   336391509.19 1535395.71 29019295.5 3222683.48"
      ]
     },
     "execution_count": 167,
     "metadata": {},
     "output_type": "execute_result"
    }
   ],
   "source": [
    "clv_summary_table = pd.DataFrame({\n",
    "    f'Cluster {cluster}': labeled_rfm_expanded[labeled_rfm_expanded.k4_cluster == cluster]\n",
    "    .CLV.describe().round(2)\n",
    "    for cluster in range(4)})\n",
    "\n",
    "print('CLV')\n",
    "clv_summary_table"
   ]
  },
  {
   "cell_type": "code",
   "execution_count": 90,
   "id": "ff3b68a4-bb8e-4102-a74a-c81e71875061",
   "metadata": {},
   "outputs": [],
   "source": [
    "def describe(df, col):\n",
    "    for cluster in range(0,4):\n",
    "        print(f'Cluster {cluster}')\n",
    "        \n",
    "        loop_df = df[df.k4_cluster == cluster]\n",
    "        \n",
    "        print(loop_df[col].describe().round(2))\n",
    "        print('---')\n",
    "\n",
    "        \n",
    "        # sns.boxplot(x = loop_df[col], orient='h')\n",
    "        # plt.title(f'Histogram for {col}, cluster {cluster}')\n",
    "        # plt.ylabel('Frequency')\n",
    "        # plt.xlabel(f'{col}')\n",
    "        # plt.show()"
   ]
  },
  {
   "cell_type": "markdown",
   "id": "91b037f4-65a3-4f2c-82d1-f491a79889bc",
   "metadata": {},
   "source": []
  },
  {
   "cell_type": "code",
   "execution_count": 92,
   "id": "04a21585-ac18-40f9-a879-aaed4a124366",
   "metadata": {},
   "outputs": [
    {
     "name": "stdout",
     "output_type": "stream",
     "text": [
      "Cluster 0\n",
      "count   559711.0\n",
      "mean       24.67\n",
      "std       260.24\n",
      "min          0.0\n",
      "25%         5.04\n",
      "50%         12.6\n",
      "75%         19.8\n",
      "max     168469.6\n",
      "Name: Sales, dtype: float64\n",
      "---\n",
      "Cluster 1\n",
      "count   35306.0\n",
      "mean       13.6\n",
      "std       24.52\n",
      "min         0.0\n",
      "25%        3.75\n",
      "50%        10.2\n",
      "75%       16.95\n",
      "max      1569.6\n",
      "Name: Sales, dtype: float64\n",
      "---\n",
      "Cluster 2\n",
      "count   119824.0\n",
      "mean       18.93\n",
      "std       139.17\n",
      "min          0.0\n",
      "25%         5.04\n",
      "50%         12.6\n",
      "75%        17.85\n",
      "max      38970.0\n",
      "Name: Sales, dtype: float64\n",
      "---\n",
      "Cluster 3\n",
      "count   64584.0\n",
      "mean      12.63\n",
      "std       28.39\n",
      "min         0.0\n",
      "25%         3.3\n",
      "50%        8.85\n",
      "75%        16.5\n",
      "max      3861.0\n",
      "Name: Sales, dtype: float64\n",
      "---\n"
     ]
    }
   ],
   "source": [
    "describe(labeled_has_id, 'Sales')"
   ]
  },
  {
   "cell_type": "code",
   "execution_count": null,
   "id": "0701aded-c1e7-4681-a28b-619aa9acc097",
   "metadata": {},
   "outputs": [],
   "source": []
  },
  {
   "cell_type": "markdown",
   "id": "611ec8e3-8b04-4a94-a059-4f5cb3e87d6c",
   "metadata": {},
   "source": []
  },
  {
   "cell_type": "code",
   "execution_count": null,
   "id": "2f34a21c-bb90-4278-8aac-8cb87bbf54d3",
   "metadata": {},
   "outputs": [],
   "source": []
  },
  {
   "cell_type": "code",
   "execution_count": null,
   "id": "8da6d3fb-97c6-42bb-9ba4-6e1df6acd920",
   "metadata": {},
   "outputs": [],
   "source": []
  },
  {
   "cell_type": "markdown",
   "id": "3458cd66-4b29-4d60-805d-f235f2b07195",
   "metadata": {},
   "source": []
  },
  {
   "cell_type": "markdown",
   "id": "7b9657de-3595-4387-b11f-0a416ac663a8",
   "metadata": {},
   "source": []
  },
  {
   "cell_type": "markdown",
   "id": "f36d6d06-6a5b-4cfd-a503-30574720f66d",
   "metadata": {},
   "source": []
  },
  {
   "cell_type": "markdown",
   "id": "e9329347-6be3-482d-8a84-1711b4c42797",
   "metadata": {},
   "source": [
    "Takeaways:\n",
    "* "
   ]
  },
  {
   "cell_type": "markdown",
   "id": "3f7439de-e3bd-48ed-b81b-9e3152935a70",
   "metadata": {},
   "source": [
    "## NOTES to self"
   ]
  },
  {
   "cell_type": "markdown",
   "id": "13ca28b2-1c29-46f4-9895-dbde6b1692a0",
   "metadata": {},
   "source": [
    "\n",
    "save labeled_rfm_expanded and labeled_has_id for export"
   ]
  }
 ],
 "metadata": {
  "kernelspec": {
   "display_name": "Python [conda env:base] *",
   "language": "python",
   "name": "conda-base-py"
  },
  "language_info": {
   "codemirror_mode": {
    "name": "ipython",
    "version": 3
   },
   "file_extension": ".py",
   "mimetype": "text/x-python",
   "name": "python",
   "nbconvert_exporter": "python",
   "pygments_lexer": "ipython3",
   "version": "3.11.5"
  }
 },
 "nbformat": 4,
 "nbformat_minor": 5
}
